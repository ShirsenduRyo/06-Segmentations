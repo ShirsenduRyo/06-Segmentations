{
 "cells": [
  {
   "cell_type": "markdown",
   "id": "f682e735",
   "metadata": {},
   "source": [
    "# 0. Setting Up The Env."
   ]
  },
  {
   "cell_type": "markdown",
   "id": "83cadc99",
   "metadata": {},
   "source": [
    "## 0.1 Import Packages"
   ]
  },
  {
   "cell_type": "code",
   "execution_count": 1,
   "id": "9540323d",
   "metadata": {},
   "outputs": [],
   "source": [
    "from pathlib import Path"
   ]
  },
  {
   "cell_type": "code",
   "execution_count": 2,
   "id": "5d8cd3ac",
   "metadata": {},
   "outputs": [],
   "source": [
    "import numpy as np\n",
    "import pandas as pd\n",
    "\n",
    "import itertools"
   ]
  },
  {
   "cell_type": "code",
   "execution_count": 11,
   "id": "f728c1c0",
   "metadata": {},
   "outputs": [],
   "source": [
    "from sklearn.preprocessing import StandardScaler, LabelEncoder"
   ]
  },
  {
   "cell_type": "code",
   "execution_count": 4,
   "id": "aa38c448",
   "metadata": {},
   "outputs": [],
   "source": [
    "import matplotlib.pyplot as plt\n",
    "import seaborn as sns\n",
    "sns.set_theme(style=\"darkgrid\")"
   ]
  },
  {
   "cell_type": "markdown",
   "id": "3f6e99fc",
   "metadata": {},
   "source": [
    "## 0.2 Utilities"
   ]
  },
  {
   "cell_type": "markdown",
   "id": "e680b10f",
   "metadata": {},
   "source": [
    "## 0.3 Constants"
   ]
  },
  {
   "cell_type": "code",
   "execution_count": 5,
   "id": "7d0a92bb",
   "metadata": {},
   "outputs": [
    {
     "data": {
      "text/plain": [
       "WindowsPath('d:/01 Work/06-Segmentations')"
      ]
     },
     "execution_count": 5,
     "metadata": {},
     "output_type": "execute_result"
    }
   ],
   "source": [
    "project_root = Path.cwd().parent\n",
    "project_root"
   ]
  },
  {
   "cell_type": "code",
   "execution_count": 21,
   "id": "6e49d213",
   "metadata": {},
   "outputs": [
    {
     "data": {
      "text/plain": [
       "'d:\\\\01 Work\\\\06-Segmentations/data/raw/bank-additional.csv'"
      ]
     },
     "execution_count": 21,
     "metadata": {},
     "output_type": "execute_result"
    }
   ],
   "source": [
    "raw_file_path = f\"{project_root}/data/raw/bank-additional.csv\"\n",
    "raw_file_path"
   ]
  },
  {
   "cell_type": "markdown",
   "id": "ec204b0a",
   "metadata": {},
   "source": [
    "# 1. The Data"
   ]
  },
  {
   "cell_type": "code",
   "execution_count": 22,
   "id": "1e05d39a",
   "metadata": {},
   "outputs": [
    {
     "name": "stdout",
     "output_type": "stream",
     "text": [
      "The data has 4119 rows and 21 columns\n",
      "Data Preview:\n"
     ]
    },
    {
     "data": {
      "text/html": [
       "<div>\n",
       "<style scoped>\n",
       "    .dataframe tbody tr th:only-of-type {\n",
       "        vertical-align: middle;\n",
       "    }\n",
       "\n",
       "    .dataframe tbody tr th {\n",
       "        vertical-align: top;\n",
       "    }\n",
       "\n",
       "    .dataframe thead th {\n",
       "        text-align: right;\n",
       "    }\n",
       "</style>\n",
       "<table border=\"1\" class=\"dataframe\">\n",
       "  <thead>\n",
       "    <tr style=\"text-align: right;\">\n",
       "      <th></th>\n",
       "      <th>age</th>\n",
       "      <th>job</th>\n",
       "      <th>marital</th>\n",
       "      <th>education</th>\n",
       "      <th>default</th>\n",
       "      <th>housing</th>\n",
       "      <th>loan</th>\n",
       "      <th>contact</th>\n",
       "      <th>month</th>\n",
       "      <th>day_of_week</th>\n",
       "      <th>...</th>\n",
       "      <th>campaign</th>\n",
       "      <th>pdays</th>\n",
       "      <th>previous</th>\n",
       "      <th>poutcome</th>\n",
       "      <th>emp.var.rate</th>\n",
       "      <th>cons.price.idx</th>\n",
       "      <th>cons.conf.idx</th>\n",
       "      <th>euribor3m</th>\n",
       "      <th>nr.employed</th>\n",
       "      <th>y</th>\n",
       "    </tr>\n",
       "  </thead>\n",
       "  <tbody>\n",
       "    <tr>\n",
       "      <th>0</th>\n",
       "      <td>30</td>\n",
       "      <td>blue-collar</td>\n",
       "      <td>married</td>\n",
       "      <td>basic.9y</td>\n",
       "      <td>no</td>\n",
       "      <td>yes</td>\n",
       "      <td>no</td>\n",
       "      <td>cellular</td>\n",
       "      <td>may</td>\n",
       "      <td>fri</td>\n",
       "      <td>...</td>\n",
       "      <td>2</td>\n",
       "      <td>999</td>\n",
       "      <td>0</td>\n",
       "      <td>nonexistent</td>\n",
       "      <td>-1.8</td>\n",
       "      <td>92.893</td>\n",
       "      <td>-46.2</td>\n",
       "      <td>1.313</td>\n",
       "      <td>5099.1</td>\n",
       "      <td>no</td>\n",
       "    </tr>\n",
       "    <tr>\n",
       "      <th>1</th>\n",
       "      <td>39</td>\n",
       "      <td>services</td>\n",
       "      <td>single</td>\n",
       "      <td>high.school</td>\n",
       "      <td>no</td>\n",
       "      <td>no</td>\n",
       "      <td>no</td>\n",
       "      <td>telephone</td>\n",
       "      <td>may</td>\n",
       "      <td>fri</td>\n",
       "      <td>...</td>\n",
       "      <td>4</td>\n",
       "      <td>999</td>\n",
       "      <td>0</td>\n",
       "      <td>nonexistent</td>\n",
       "      <td>1.1</td>\n",
       "      <td>93.994</td>\n",
       "      <td>-36.4</td>\n",
       "      <td>4.855</td>\n",
       "      <td>5191.0</td>\n",
       "      <td>no</td>\n",
       "    </tr>\n",
       "    <tr>\n",
       "      <th>2</th>\n",
       "      <td>25</td>\n",
       "      <td>services</td>\n",
       "      <td>married</td>\n",
       "      <td>high.school</td>\n",
       "      <td>no</td>\n",
       "      <td>yes</td>\n",
       "      <td>no</td>\n",
       "      <td>telephone</td>\n",
       "      <td>jun</td>\n",
       "      <td>wed</td>\n",
       "      <td>...</td>\n",
       "      <td>1</td>\n",
       "      <td>999</td>\n",
       "      <td>0</td>\n",
       "      <td>nonexistent</td>\n",
       "      <td>1.4</td>\n",
       "      <td>94.465</td>\n",
       "      <td>-41.8</td>\n",
       "      <td>4.962</td>\n",
       "      <td>5228.1</td>\n",
       "      <td>no</td>\n",
       "    </tr>\n",
       "    <tr>\n",
       "      <th>3</th>\n",
       "      <td>38</td>\n",
       "      <td>services</td>\n",
       "      <td>married</td>\n",
       "      <td>basic.9y</td>\n",
       "      <td>no</td>\n",
       "      <td>unknown</td>\n",
       "      <td>unknown</td>\n",
       "      <td>telephone</td>\n",
       "      <td>jun</td>\n",
       "      <td>fri</td>\n",
       "      <td>...</td>\n",
       "      <td>3</td>\n",
       "      <td>999</td>\n",
       "      <td>0</td>\n",
       "      <td>nonexistent</td>\n",
       "      <td>1.4</td>\n",
       "      <td>94.465</td>\n",
       "      <td>-41.8</td>\n",
       "      <td>4.959</td>\n",
       "      <td>5228.1</td>\n",
       "      <td>no</td>\n",
       "    </tr>\n",
       "    <tr>\n",
       "      <th>4</th>\n",
       "      <td>47</td>\n",
       "      <td>admin.</td>\n",
       "      <td>married</td>\n",
       "      <td>university.degree</td>\n",
       "      <td>no</td>\n",
       "      <td>yes</td>\n",
       "      <td>no</td>\n",
       "      <td>cellular</td>\n",
       "      <td>nov</td>\n",
       "      <td>mon</td>\n",
       "      <td>...</td>\n",
       "      <td>1</td>\n",
       "      <td>999</td>\n",
       "      <td>0</td>\n",
       "      <td>nonexistent</td>\n",
       "      <td>-0.1</td>\n",
       "      <td>93.200</td>\n",
       "      <td>-42.0</td>\n",
       "      <td>4.191</td>\n",
       "      <td>5195.8</td>\n",
       "      <td>no</td>\n",
       "    </tr>\n",
       "  </tbody>\n",
       "</table>\n",
       "<p>5 rows × 21 columns</p>\n",
       "</div>"
      ],
      "text/plain": [
       "   age          job  marital          education default  housing     loan  \\\n",
       "0   30  blue-collar  married           basic.9y      no      yes       no   \n",
       "1   39     services   single        high.school      no       no       no   \n",
       "2   25     services  married        high.school      no      yes       no   \n",
       "3   38     services  married           basic.9y      no  unknown  unknown   \n",
       "4   47       admin.  married  university.degree      no      yes       no   \n",
       "\n",
       "     contact month day_of_week  ...  campaign  pdays  previous     poutcome  \\\n",
       "0   cellular   may         fri  ...         2    999         0  nonexistent   \n",
       "1  telephone   may         fri  ...         4    999         0  nonexistent   \n",
       "2  telephone   jun         wed  ...         1    999         0  nonexistent   \n",
       "3  telephone   jun         fri  ...         3    999         0  nonexistent   \n",
       "4   cellular   nov         mon  ...         1    999         0  nonexistent   \n",
       "\n",
       "  emp.var.rate  cons.price.idx  cons.conf.idx  euribor3m  nr.employed   y  \n",
       "0         -1.8          92.893          -46.2      1.313       5099.1  no  \n",
       "1          1.1          93.994          -36.4      4.855       5191.0  no  \n",
       "2          1.4          94.465          -41.8      4.962       5228.1  no  \n",
       "3          1.4          94.465          -41.8      4.959       5228.1  no  \n",
       "4         -0.1          93.200          -42.0      4.191       5195.8  no  \n",
       "\n",
       "[5 rows x 21 columns]"
      ]
     },
     "execution_count": 22,
     "metadata": {},
     "output_type": "execute_result"
    }
   ],
   "source": [
    "df  = pd.read_csv(raw_file_path, sep=\";\")\n",
    "print(f\"The data has {df.shape[0]} rows and {df.shape[1]} columns\")\n",
    "print(\"Data Preview:\")\n",
    "df.head()"
   ]
  },
  {
   "cell_type": "code",
   "execution_count": 30,
   "id": "a47bdcbe",
   "metadata": {},
   "outputs": [],
   "source": [
    "# Encode categorical variables\n",
    "categorical_features = ['job', 'marital', 'education', 'default', 'housing', \n",
    "                       'loan', 'contact', 'month', 'poutcome', 'y']\n",
    "numerical_features = ['age', 'duration', 'campaign', 'pdays', \n",
    "                     'previous', 'emp.var.rate', 'cons.price.idx', \n",
    "                     'cons.conf.idx', 'euribor3m', 'nr.employed']\n",
    "\n",
    "le = LabelEncoder()\n",
    "df_encoded = df.copy()\n",
    "for col in categorical_features:\n",
    "    df_encoded[col] = le.fit_transform(df[col])\n",
    "\n",
    "X = df_encoded.drop('y', axis=1)\n",
    "y = df_encoded['y']\n",
    "\n",
    "# Standardize features\n",
    "scaler = StandardScaler()\n",
    "X_scaled = X.copy()\n",
    "X_scaled[numerical_features] = scaler.fit_transform(X[numerical_features])\n",
    "X_scaled.drop('day_of_week', axis=1, inplace=True)"
   ]
  },
  {
   "cell_type": "markdown",
   "id": "97b965fd",
   "metadata": {},
   "source": [
    "## K-Means"
   ]
  },
  {
   "cell_type": "code",
   "execution_count": 34,
   "id": "33d4c94b",
   "metadata": {},
   "outputs": [
    {
     "name": "stdout",
     "output_type": "stream",
     "text": [
      "K-means Silhouette Score for 2 clusters: 0.2939\n",
      "K-means Silhouette Score for 3 clusters: 0.2146\n",
      "K-means Silhouette Score for 4 clusters: 0.2158\n",
      "K-means Silhouette Score for 5 clusters: 0.1857\n",
      "K-means Silhouette Score for 6 clusters: 0.1814\n",
      "K-means Silhouette Score for 7 clusters: 0.1852\n",
      "K-means Silhouette Score for 8 clusters: 0.1951\n",
      "K-means Silhouette Score for 9 clusters: 0.1857\n",
      "K-means Silhouette Score for 10 clusters: 0.1716\n",
      "K-means Silhouette Score for 11 clusters: 0.1782\n",
      "K-means Silhouette Score for 12 clusters: 0.1746\n",
      "K-means Silhouette Score for 13 clusters: 0.1856\n",
      "K-means Silhouette Score for 14 clusters: 0.1802\n",
      "K-means Silhouette Score for 15 clusters: 0.1792\n",
      "K-means Silhouette Score for 16 clusters: 0.1785\n",
      "K-means Silhouette Score for 17 clusters: 0.1720\n",
      "K-means Silhouette Score for 18 clusters: 0.1848\n",
      "K-means Silhouette Score for 19 clusters: 0.1820\n"
     ]
    }
   ],
   "source": [
    "from sklearn.cluster import KMeans\n",
    "from sklearn.metrics import silhouette_score\n",
    "\n",
    "for i in range(2,20):\n",
    "    kmeans_16 = KMeans(n_clusters=i, random_state=42, n_init=10)\n",
    "    clusters_kmeans = kmeans_16.fit_predict(X_scaled)\n",
    "    silhouette_kmeans = silhouette_score(X_scaled, clusters_kmeans)\n",
    "    print(f\"K-means Silhouette Score for {i} clusters: {silhouette_kmeans:.4f}\")"
   ]
  },
  {
   "cell_type": "markdown",
   "id": "37c253dd",
   "metadata": {},
   "source": [
    "## Hierarchical Clustering"
   ]
  },
  {
   "cell_type": "code",
   "execution_count": 32,
   "id": "33ecc08e",
   "metadata": {},
   "outputs": [
    {
     "name": "stdout",
     "output_type": "stream",
     "text": [
      "ward linkage, 2 clusters: 0.2664\n",
      "ward linkage, 3 clusters: 0.1854\n",
      "ward linkage, 4 clusters: 0.1200\n",
      "ward linkage, 5 clusters: 0.1312\n",
      "ward linkage, 8 clusters: 0.1362\n",
      "ward linkage, 10 clusters: 0.1400\n",
      "complete linkage, 2 clusters: 0.1577\n",
      "complete linkage, 3 clusters: 0.1515\n",
      "complete linkage, 4 clusters: 0.0827\n",
      "complete linkage, 5 clusters: 0.1721\n",
      "complete linkage, 8 clusters: 0.1325\n",
      "complete linkage, 10 clusters: 0.1356\n",
      "average linkage, 2 clusters: 0.4817\n",
      "average linkage, 3 clusters: 0.2757\n",
      "average linkage, 4 clusters: 0.2355\n",
      "average linkage, 5 clusters: 0.1856\n",
      "average linkage, 8 clusters: 0.2481\n",
      "average linkage, 10 clusters: 0.2036\n",
      "single linkage, 2 clusters: 0.4817\n",
      "single linkage, 3 clusters: 0.4367\n",
      "single linkage, 4 clusters: 0.4178\n",
      "single linkage, 5 clusters: 0.3154\n",
      "single linkage, 8 clusters: 0.1836\n",
      "single linkage, 10 clusters: 0.1734\n"
     ]
    }
   ],
   "source": [
    "from sklearn.cluster import AgglomerativeClustering\n",
    "\n",
    "# Test different linkage methods\n",
    "linkage_methods = ['ward', 'complete', 'average', 'single']\n",
    "\n",
    "for method in linkage_methods:\n",
    "    for n_clusters in [2, 3, 4, 5, 8, 10]:\n",
    "        agg_clustering = AgglomerativeClustering(n_clusters=n_clusters, linkage=method)\n",
    "        clusters_agg = agg_clustering.fit_predict(X_scaled)\n",
    "        silhouette_agg = silhouette_score(X_scaled, clusters_agg)\n",
    "        print(f\"{method} linkage, {n_clusters} clusters: {silhouette_agg:.4f}\")\n"
   ]
  },
  {
   "cell_type": "markdown",
   "id": "12630c82",
   "metadata": {},
   "source": [
    "## DBSCAN"
   ]
  },
  {
   "cell_type": "code",
   "execution_count": 51,
   "id": "1d0c9b5c",
   "metadata": {},
   "outputs": [],
   "source": [
    "from sklearn.cluster import DBSCAN\n",
    "\n",
    "# Test different parameter combinations\n",
    "eps_values = [0.5, 0.7, 1.0, 1.2, 1.5]\n",
    "min_samples_values = [10, 50, 100, 200]\n",
    "\n",
    "best_result = {'silhouette': -1, 'params': None}\n",
    "\n",
    "for eps in eps_values:\n",
    "    for min_samples in min_samples_values:\n",
    "        dbscan = DBSCAN(eps=eps, min_samples=min_samples)\n",
    "        clusters_dbscan = dbscan.fit_predict(X_scaled)\n",
    "        \n",
    "        n_clusters = len(set(clusters_dbscan)) - (1 if -1 in clusters_dbscan else 0)\n",
    "        if n_clusters > 1:\n",
    "            mask = clusters_dbscan != -1\n",
    "            silhouette_dbscan = silhouette_score(X_scaled[mask], clusters_dbscan[mask])\n",
    "            \n",
    "            if silhouette_dbscan > best_result['silhouette']:\n",
    "                best_result = {'silhouette': silhouette_dbscan, 'params': {'eps': eps, 'min_samples': min_samples}}\n"
   ]
  },
  {
   "cell_type": "code",
   "execution_count": 52,
   "id": "03ac7302",
   "metadata": {},
   "outputs": [
    {
     "data": {
      "text/plain": [
       "{'silhouette': 0.7555688761752094, 'params': {'eps': 0.7, 'min_samples': 10}}"
      ]
     },
     "execution_count": 52,
     "metadata": {},
     "output_type": "execute_result"
    }
   ],
   "source": [
    "best_result"
   ]
  },
  {
   "cell_type": "code",
   "execution_count": 37,
   "id": "59dcb53e",
   "metadata": {},
   "outputs": [
    {
     "name": "stdout",
     "output_type": "stream",
     "text": [
      "Components: 2, Silhouette: 0.1925, AIC: 62560.67\n",
      "Components: 3, Silhouette: 0.1081, AIC: -71112.90\n",
      "Components: 4, Silhouette: 0.1176, AIC: -43499.92\n",
      "Components: 5, Silhouette: 0.0957, AIC: -115225.77\n",
      "Components: 6, Silhouette: 0.0606, AIC: -116633.68\n",
      "Components: 7, Silhouette: 0.0899, AIC: -141240.32\n",
      "Components: 8, Silhouette: 0.0383, AIC: -162389.24\n",
      "Components: 9, Silhouette: 0.0343, AIC: -159103.66\n",
      "Components: 10, Silhouette: 0.0497, AIC: -189059.99\n"
     ]
    }
   ],
   "source": [
    "from sklearn.mixture import GaussianMixture\n",
    "\n",
    "# Test different numbers of components\n",
    "for n_components in range(2, 11):\n",
    "    gmm = GaussianMixture(n_components=n_components, covariance_type='full', random_state=42)\n",
    "    clusters_gmm = gmm.fit_predict(X_scaled)\n",
    "    silhouette_gmm = silhouette_score(X_scaled, clusters_gmm)\n",
    "    aic = gmm.aic(X_scaled)\n",
    "    bic = gmm.bic(X_scaled)\n",
    "    print(f\"Components: {n_components}, Silhouette: {silhouette_gmm:.4f}, AIC: {aic:.2f}\")\n"
   ]
  },
  {
   "cell_type": "code",
   "execution_count": 38,
   "id": "1cdcdfad",
   "metadata": {},
   "outputs": [
    {
     "name": "stdout",
     "output_type": "stream",
     "text": [
      "Threshold: 0.01, Clusters: None, Silhouette: 0.0010\n",
      "Threshold: 0.01, Clusters: 5, Silhouette: 0.1312\n",
      "Threshold: 0.01, Clusters: 8, Silhouette: 0.1362\n",
      "Threshold: 0.01, Clusters: 10, Silhouette: 0.1400\n",
      "Threshold: 0.01, Clusters: 15, Silhouette: 0.1510\n",
      "Threshold: 0.01, Clusters: 20, Silhouette: 0.1589\n",
      "Threshold: 0.05, Clusters: None, Silhouette: 0.0037\n",
      "Threshold: 0.05, Clusters: 5, Silhouette: 0.1311\n",
      "Threshold: 0.05, Clusters: 8, Silhouette: 0.1325\n",
      "Threshold: 0.05, Clusters: 10, Silhouette: 0.1366\n",
      "Threshold: 0.05, Clusters: 15, Silhouette: 0.1536\n",
      "Threshold: 0.05, Clusters: 20, Silhouette: 0.1586\n",
      "Threshold: 0.1, Clusters: None, Silhouette: 0.0130\n",
      "Threshold: 0.1, Clusters: 5, Silhouette: 0.1126\n",
      "Threshold: 0.1, Clusters: 8, Silhouette: 0.1449\n",
      "Threshold: 0.1, Clusters: 10, Silhouette: 0.1318\n",
      "Threshold: 0.1, Clusters: 15, Silhouette: 0.1505\n",
      "Threshold: 0.1, Clusters: 20, Silhouette: 0.1575\n",
      "Threshold: 0.3, Clusters: None, Silhouette: 0.0549\n",
      "Threshold: 0.3, Clusters: 5, Silhouette: 0.0963\n",
      "Threshold: 0.3, Clusters: 8, Silhouette: 0.1353\n",
      "Threshold: 0.3, Clusters: 10, Silhouette: 0.1377\n",
      "Threshold: 0.3, Clusters: 15, Silhouette: 0.1594\n",
      "Threshold: 0.3, Clusters: 20, Silhouette: 0.1650\n",
      "Threshold: 0.5, Clusters: None, Silhouette: 0.0921\n",
      "Threshold: 0.5, Clusters: 5, Silhouette: 0.1481\n",
      "Threshold: 0.5, Clusters: 8, Silhouette: 0.1463\n",
      "Threshold: 0.5, Clusters: 10, Silhouette: 0.1596\n",
      "Threshold: 0.5, Clusters: 15, Silhouette: 0.1668\n",
      "Threshold: 0.5, Clusters: 20, Silhouette: 0.1689\n",
      "Threshold: 1.0, Clusters: None, Silhouette: 0.1075\n",
      "Threshold: 1.0, Clusters: 5, Silhouette: 0.1745\n",
      "Threshold: 1.0, Clusters: 8, Silhouette: 0.1557\n",
      "Threshold: 1.0, Clusters: 10, Silhouette: 0.1531\n",
      "Threshold: 1.0, Clusters: 15, Silhouette: 0.1645\n",
      "Threshold: 1.0, Clusters: 20, Silhouette: 0.1647\n"
     ]
    }
   ],
   "source": [
    "from sklearn.cluster import Birch\n",
    "\n",
    "threshold_values = [0.01, 0.05, 0.1, 0.3, 0.5, 1.0]\n",
    "n_clusters_values = [None, 5, 8, 10, 15, 20]\n",
    "\n",
    "for threshold in threshold_values:\n",
    "    for n_clusters in n_clusters_values:\n",
    "        birch = Birch(threshold=threshold, n_clusters=n_clusters)\n",
    "        clusters_birch = birch.fit_predict(X_scaled)\n",
    "        \n",
    "        if len(set(clusters_birch)) > 1:\n",
    "            silhouette_birch = silhouette_score(X_scaled, clusters_birch)\n",
    "            print(f\"Threshold: {threshold}, Clusters: {n_clusters}, Silhouette: {silhouette_birch:.4f}\")\n"
   ]
  },
  {
   "cell_type": "markdown",
   "id": "892446ba",
   "metadata": {},
   "source": [
    "# END"
   ]
  }
 ],
 "metadata": {
  "kernelspec": {
   "display_name": ".venv",
   "language": "python",
   "name": "python3"
  },
  "language_info": {
   "codemirror_mode": {
    "name": "ipython",
    "version": 3
   },
   "file_extension": ".py",
   "mimetype": "text/x-python",
   "name": "python",
   "nbconvert_exporter": "python",
   "pygments_lexer": "ipython3",
   "version": "3.13.3"
  }
 },
 "nbformat": 4,
 "nbformat_minor": 5
}

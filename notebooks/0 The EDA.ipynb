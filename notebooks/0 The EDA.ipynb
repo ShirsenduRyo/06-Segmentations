{
 "cells": [
  {
   "cell_type": "markdown",
   "id": "aee88a33",
   "metadata": {},
   "source": [
    "# 0. Setting Up The Env"
   ]
  },
  {
   "cell_type": "markdown",
   "id": "3c270a37",
   "metadata": {},
   "source": [
    "## 0.1 Packages"
   ]
  },
  {
   "cell_type": "code",
   "execution_count": 10,
   "id": "ba16c734",
   "metadata": {},
   "outputs": [],
   "source": [
    "from pathlib import Path"
   ]
  },
  {
   "cell_type": "code",
   "execution_count": 11,
   "id": "be5f62d8",
   "metadata": {},
   "outputs": [],
   "source": [
    "import pandas as pd \n",
    "import numpy as np"
   ]
  },
  {
   "cell_type": "code",
   "execution_count": 12,
   "id": "2d77d5bb",
   "metadata": {},
   "outputs": [],
   "source": [
    "import matplotlib.pyplot as plt\n",
    "import seaborn as sns\n",
    "sns.set_theme(style=\"darkgrid\")\n"
   ]
  },
  {
   "cell_type": "code",
   "execution_count": 13,
   "id": "e8506fdc",
   "metadata": {},
   "outputs": [],
   "source": [
    "from scipy.stats import chi2_contingency"
   ]
  },
  {
   "cell_type": "markdown",
   "id": "40e5513f",
   "metadata": {},
   "source": [
    "## 0.2 Utilities"
   ]
  },
  {
   "cell_type": "code",
   "execution_count": 14,
   "id": "fe947ad3",
   "metadata": {},
   "outputs": [],
   "source": [
    "def cramers_v(x, y):\n",
    "    \"\"\"\n",
    "    Calculate Cramér's V statistic \n",
    "    \"\"\"\n",
    "    confusion_matrix = pd.crosstab(x, y)\n",
    "    chi2, p, dof, exp = chi2_contingency(confusion_matrix)\n",
    "    n = confusion_matrix.sum().sum()\n",
    "    phi2 = chi2 / n\n",
    "    r, k = confusion_matrix.shape\n",
    "    phi2corr = max(0, phi2 - ((k-1)*(r-1))/(n-1))    \n",
    "    rcorr = r - ((r-1)**2)/(n-1)\n",
    "    kcorr = k - ((k-1)**2)/(n-1)\n",
    "    return np.sqrt(phi2corr / min((kcorr-1), (rcorr-1))), chi2, p\n",
    "\n",
    "def association_with_target(df, x_list, y):\n",
    "    \"\"\"\n",
    "    Test association between target categorical variable y and categorical features in x_list.\n",
    "    \"\"\"\n",
    "    results = []\n",
    "    for col in x_list:\n",
    "        v, chi2, p = cramers_v(df[col], df[y])\n",
    "        results.append({\n",
    "            \"Feature\": col,\n",
    "            \"Target\": y,\n",
    "            \"Cramer's V\": round(v, 3),\n",
    "            \"Chi2 Statistic\": round(chi2, 3),\n",
    "            \"p-value\": round(p, 5),\n",
    "            \"Significance\": \"Significant\" if p < 0.05 else \"Not Significant\"\n",
    "        })\n",
    "    return pd.DataFrame(results)"
   ]
  },
  {
   "cell_type": "markdown",
   "id": "b3158c91",
   "metadata": {},
   "source": [
    "## 0.3 Constants"
   ]
  },
  {
   "cell_type": "code",
   "execution_count": 15,
   "id": "bcccbda2",
   "metadata": {},
   "outputs": [
    {
     "data": {
      "text/plain": [
       "WindowsPath('d:/01 Work/06-Segmentations')"
      ]
     },
     "execution_count": 15,
     "metadata": {},
     "output_type": "execute_result"
    }
   ],
   "source": [
    "project_root = Path.cwd().parent\n",
    "project_root"
   ]
  },
  {
   "cell_type": "code",
   "execution_count": 16,
   "id": "fcbce3b3",
   "metadata": {},
   "outputs": [
    {
     "data": {
      "text/plain": [
       "'d:\\\\01 Work\\\\06-Segmentations/data/raw/bank-full.csv'"
      ]
     },
     "execution_count": 16,
     "metadata": {},
     "output_type": "execute_result"
    }
   ],
   "source": [
    "raw_file_path = f\"{project_root}/data/raw/bank-full.csv\"\n",
    "raw_file_path"
   ]
  },
  {
   "cell_type": "markdown",
   "id": "fca1283a",
   "metadata": {},
   "source": [
    "# 1. The Data"
   ]
  },
  {
   "cell_type": "code",
   "execution_count": 17,
   "id": "e720009d",
   "metadata": {},
   "outputs": [
    {
     "name": "stdout",
     "output_type": "stream",
     "text": [
      "The data has 45211 rows and 17 columns\n",
      "Data Preview:\n"
     ]
    },
    {
     "data": {
      "text/html": [
       "<div>\n",
       "<style scoped>\n",
       "    .dataframe tbody tr th:only-of-type {\n",
       "        vertical-align: middle;\n",
       "    }\n",
       "\n",
       "    .dataframe tbody tr th {\n",
       "        vertical-align: top;\n",
       "    }\n",
       "\n",
       "    .dataframe thead th {\n",
       "        text-align: right;\n",
       "    }\n",
       "</style>\n",
       "<table border=\"1\" class=\"dataframe\">\n",
       "  <thead>\n",
       "    <tr style=\"text-align: right;\">\n",
       "      <th></th>\n",
       "      <th>age</th>\n",
       "      <th>job</th>\n",
       "      <th>marital</th>\n",
       "      <th>education</th>\n",
       "      <th>default</th>\n",
       "      <th>balance</th>\n",
       "      <th>housing</th>\n",
       "      <th>loan</th>\n",
       "      <th>contact</th>\n",
       "      <th>day</th>\n",
       "      <th>month</th>\n",
       "      <th>duration</th>\n",
       "      <th>campaign</th>\n",
       "      <th>pdays</th>\n",
       "      <th>previous</th>\n",
       "      <th>poutcome</th>\n",
       "      <th>y</th>\n",
       "    </tr>\n",
       "  </thead>\n",
       "  <tbody>\n",
       "    <tr>\n",
       "      <th>0</th>\n",
       "      <td>58</td>\n",
       "      <td>management</td>\n",
       "      <td>married</td>\n",
       "      <td>tertiary</td>\n",
       "      <td>no</td>\n",
       "      <td>2143</td>\n",
       "      <td>yes</td>\n",
       "      <td>no</td>\n",
       "      <td>unknown</td>\n",
       "      <td>5</td>\n",
       "      <td>may</td>\n",
       "      <td>261</td>\n",
       "      <td>1</td>\n",
       "      <td>-1</td>\n",
       "      <td>0</td>\n",
       "      <td>unknown</td>\n",
       "      <td>no</td>\n",
       "    </tr>\n",
       "    <tr>\n",
       "      <th>1</th>\n",
       "      <td>44</td>\n",
       "      <td>technician</td>\n",
       "      <td>single</td>\n",
       "      <td>secondary</td>\n",
       "      <td>no</td>\n",
       "      <td>29</td>\n",
       "      <td>yes</td>\n",
       "      <td>no</td>\n",
       "      <td>unknown</td>\n",
       "      <td>5</td>\n",
       "      <td>may</td>\n",
       "      <td>151</td>\n",
       "      <td>1</td>\n",
       "      <td>-1</td>\n",
       "      <td>0</td>\n",
       "      <td>unknown</td>\n",
       "      <td>no</td>\n",
       "    </tr>\n",
       "    <tr>\n",
       "      <th>2</th>\n",
       "      <td>33</td>\n",
       "      <td>entrepreneur</td>\n",
       "      <td>married</td>\n",
       "      <td>secondary</td>\n",
       "      <td>no</td>\n",
       "      <td>2</td>\n",
       "      <td>yes</td>\n",
       "      <td>yes</td>\n",
       "      <td>unknown</td>\n",
       "      <td>5</td>\n",
       "      <td>may</td>\n",
       "      <td>76</td>\n",
       "      <td>1</td>\n",
       "      <td>-1</td>\n",
       "      <td>0</td>\n",
       "      <td>unknown</td>\n",
       "      <td>no</td>\n",
       "    </tr>\n",
       "    <tr>\n",
       "      <th>3</th>\n",
       "      <td>47</td>\n",
       "      <td>blue-collar</td>\n",
       "      <td>married</td>\n",
       "      <td>unknown</td>\n",
       "      <td>no</td>\n",
       "      <td>1506</td>\n",
       "      <td>yes</td>\n",
       "      <td>no</td>\n",
       "      <td>unknown</td>\n",
       "      <td>5</td>\n",
       "      <td>may</td>\n",
       "      <td>92</td>\n",
       "      <td>1</td>\n",
       "      <td>-1</td>\n",
       "      <td>0</td>\n",
       "      <td>unknown</td>\n",
       "      <td>no</td>\n",
       "    </tr>\n",
       "    <tr>\n",
       "      <th>4</th>\n",
       "      <td>33</td>\n",
       "      <td>unknown</td>\n",
       "      <td>single</td>\n",
       "      <td>unknown</td>\n",
       "      <td>no</td>\n",
       "      <td>1</td>\n",
       "      <td>no</td>\n",
       "      <td>no</td>\n",
       "      <td>unknown</td>\n",
       "      <td>5</td>\n",
       "      <td>may</td>\n",
       "      <td>198</td>\n",
       "      <td>1</td>\n",
       "      <td>-1</td>\n",
       "      <td>0</td>\n",
       "      <td>unknown</td>\n",
       "      <td>no</td>\n",
       "    </tr>\n",
       "  </tbody>\n",
       "</table>\n",
       "</div>"
      ],
      "text/plain": [
       "   age           job  marital  education default  balance housing loan  \\\n",
       "0   58    management  married   tertiary      no     2143     yes   no   \n",
       "1   44    technician   single  secondary      no       29     yes   no   \n",
       "2   33  entrepreneur  married  secondary      no        2     yes  yes   \n",
       "3   47   blue-collar  married    unknown      no     1506     yes   no   \n",
       "4   33       unknown   single    unknown      no        1      no   no   \n",
       "\n",
       "   contact  day month  duration  campaign  pdays  previous poutcome   y  \n",
       "0  unknown    5   may       261         1     -1         0  unknown  no  \n",
       "1  unknown    5   may       151         1     -1         0  unknown  no  \n",
       "2  unknown    5   may        76         1     -1         0  unknown  no  \n",
       "3  unknown    5   may        92         1     -1         0  unknown  no  \n",
       "4  unknown    5   may       198         1     -1         0  unknown  no  "
      ]
     },
     "execution_count": 17,
     "metadata": {},
     "output_type": "execute_result"
    }
   ],
   "source": [
    "data_df  = pd.read_csv(raw_file_path, sep=\";\")\n",
    "print(f\"The data has {data_df.shape[0]} rows and {data_df.shape[1]} columns\")\n",
    "print(\"Data Preview:\")\n",
    "data_df.head()"
   ]
  },
  {
   "cell_type": "markdown",
   "id": "19536dc7",
   "metadata": {},
   "source": [
    "# 2. Data Check"
   ]
  },
  {
   "cell_type": "code",
   "execution_count": 18,
   "id": "86ef8312",
   "metadata": {},
   "outputs": [
    {
     "name": "stdout",
     "output_type": "stream",
     "text": [
      "age          0\n",
      "job          0\n",
      "marital      0\n",
      "education    0\n",
      "default      0\n",
      "balance      0\n",
      "housing      0\n",
      "loan         0\n",
      "contact      0\n",
      "day          0\n",
      "month        0\n",
      "duration     0\n",
      "campaign     0\n",
      "pdays        0\n",
      "previous     0\n",
      "poutcome     0\n",
      "y            0\n",
      "dtype: int64\n"
     ]
    }
   ],
   "source": [
    "print(data_df.isnull().sum())\n",
    "\n",
    "\n"
   ]
  },
  {
   "cell_type": "code",
   "execution_count": 19,
   "id": "39e65758",
   "metadata": {},
   "outputs": [
    {
     "name": "stdout",
     "output_type": "stream",
     "text": [
      "<class 'pandas.core.frame.DataFrame'>\n",
      "RangeIndex: 45211 entries, 0 to 45210\n",
      "Data columns (total 17 columns):\n",
      " #   Column     Non-Null Count  Dtype \n",
      "---  ------     --------------  ----- \n",
      " 0   age        45211 non-null  int64 \n",
      " 1   job        45211 non-null  object\n",
      " 2   marital    45211 non-null  object\n",
      " 3   education  45211 non-null  object\n",
      " 4   default    45211 non-null  object\n",
      " 5   balance    45211 non-null  int64 \n",
      " 6   housing    45211 non-null  object\n",
      " 7   loan       45211 non-null  object\n",
      " 8   contact    45211 non-null  object\n",
      " 9   day        45211 non-null  int64 \n",
      " 10  month      45211 non-null  object\n",
      " 11  duration   45211 non-null  int64 \n",
      " 12  campaign   45211 non-null  int64 \n",
      " 13  pdays      45211 non-null  int64 \n",
      " 14  previous   45211 non-null  int64 \n",
      " 15  poutcome   45211 non-null  object\n",
      " 16  y          45211 non-null  object\n",
      "dtypes: int64(7), object(10)\n",
      "memory usage: 5.9+ MB\n"
     ]
    }
   ],
   "source": [
    "data_df.info()"
   ]
  },
  {
   "cell_type": "markdown",
   "id": "059c5e08",
   "metadata": {},
   "source": [
    "## 2.1 Target Var"
   ]
  },
  {
   "cell_type": "code",
   "execution_count": 20,
   "id": "3721fdd5",
   "metadata": {},
   "outputs": [
    {
     "data": {
      "image/png": "[encoded data removed]",
      "text/plain": [
       "<Figure size 640x480 with 1 Axes>"
      ]
     },
     "metadata": {},
     "output_type": "display_data"
    }
   ],
   "source": [
    "ax = sns.barplot(\n",
    "    x=data_df['y'].value_counts(normalize=True).index,\n",
    "    y=data_df['y'].value_counts(normalize=True).values,\n",
    ")\n",
    "\n",
    "# Add percentage labels\n",
    "for i, v in enumerate(data_df['y'].value_counts(normalize=True).values):\n",
    "    ax.text(i, v + 0.01, f\"{v:.2%}\", ha=\"center\", fontweight=\"bold\")\n",
    "\n",
    "ax.set_title(\"Proportion of Target Variable (y)\")\n",
    "ax.set_xlabel(\"y\")\n",
    "ax.set_ylabel(\"Proportion\")\n",
    "plt.show()"
   ]
  },
  {
   "cell_type": "markdown",
   "id": "a8059dd8",
   "metadata": {},
   "source": [
    "## 2.2 Numeric Columns"
   ]
  },
  {
   "cell_type": "code",
   "execution_count": 21,
   "id": "0b82a42e",
   "metadata": {},
   "outputs": [
    {
     "data": {
      "text/html": [
       "<div>\n",
       "<style scoped>\n",
       "    .dataframe tbody tr th:only-of-type {\n",
       "        vertical-align: middle;\n",
       "    }\n",
       "\n",
       "    .dataframe tbody tr th {\n",
       "        vertical-align: top;\n",
       "    }\n",
       "\n",
       "    .dataframe thead th {\n",
       "        text-align: right;\n",
       "    }\n",
       "</style>\n",
       "<table border=\"1\" class=\"dataframe\">\n",
       "  <thead>\n",
       "    <tr style=\"text-align: right;\">\n",
       "      <th></th>\n",
       "      <th>count</th>\n",
       "      <th>mean</th>\n",
       "      <th>std</th>\n",
       "      <th>min</th>\n",
       "      <th>25%</th>\n",
       "      <th>50%</th>\n",
       "      <th>75%</th>\n",
       "      <th>max</th>\n",
       "    </tr>\n",
       "  </thead>\n",
       "  <tbody>\n",
       "    <tr>\n",
       "      <th>age</th>\n",
       "      <td>45211.0</td>\n",
       "      <td>40.936210</td>\n",
       "      <td>10.618762</td>\n",
       "      <td>18.0</td>\n",
       "      <td>33.0</td>\n",
       "      <td>39.0</td>\n",
       "      <td>48.0</td>\n",
       "      <td>95.0</td>\n",
       "    </tr>\n",
       "    <tr>\n",
       "      <th>balance</th>\n",
       "      <td>45211.0</td>\n",
       "      <td>1362.272058</td>\n",
       "      <td>3044.765829</td>\n",
       "      <td>-8019.0</td>\n",
       "      <td>72.0</td>\n",
       "      <td>448.0</td>\n",
       "      <td>1428.0</td>\n",
       "      <td>102127.0</td>\n",
       "    </tr>\n",
       "    <tr>\n",
       "      <th>day</th>\n",
       "      <td>45211.0</td>\n",
       "      <td>15.806419</td>\n",
       "      <td>8.322476</td>\n",
       "      <td>1.0</td>\n",
       "      <td>8.0</td>\n",
       "      <td>16.0</td>\n",
       "      <td>21.0</td>\n",
       "      <td>31.0</td>\n",
       "    </tr>\n",
       "    <tr>\n",
       "      <th>duration</th>\n",
       "      <td>45211.0</td>\n",
       "      <td>258.163080</td>\n",
       "      <td>257.527812</td>\n",
       "      <td>0.0</td>\n",
       "      <td>103.0</td>\n",
       "      <td>180.0</td>\n",
       "      <td>319.0</td>\n",
       "      <td>4918.0</td>\n",
       "    </tr>\n",
       "    <tr>\n",
       "      <th>campaign</th>\n",
       "      <td>45211.0</td>\n",
       "      <td>2.763841</td>\n",
       "      <td>3.098021</td>\n",
       "      <td>1.0</td>\n",
       "      <td>1.0</td>\n",
       "      <td>2.0</td>\n",
       "      <td>3.0</td>\n",
       "      <td>63.0</td>\n",
       "    </tr>\n",
       "    <tr>\n",
       "      <th>pdays</th>\n",
       "      <td>45211.0</td>\n",
       "      <td>40.197828</td>\n",
       "      <td>100.128746</td>\n",
       "      <td>-1.0</td>\n",
       "      <td>-1.0</td>\n",
       "      <td>-1.0</td>\n",
       "      <td>-1.0</td>\n",
       "      <td>871.0</td>\n",
       "    </tr>\n",
       "    <tr>\n",
       "      <th>previous</th>\n",
       "      <td>45211.0</td>\n",
       "      <td>0.580323</td>\n",
       "      <td>2.303441</td>\n",
       "      <td>0.0</td>\n",
       "      <td>0.0</td>\n",
       "      <td>0.0</td>\n",
       "      <td>0.0</td>\n",
       "      <td>275.0</td>\n",
       "    </tr>\n",
       "  </tbody>\n",
       "</table>\n",
       "</div>"
      ],
      "text/plain": [
       "            count         mean          std     min    25%    50%     75%  \\\n",
       "age       45211.0    40.936210    10.618762    18.0   33.0   39.0    48.0   \n",
       "balance   45211.0  1362.272058  3044.765829 -8019.0   72.0  448.0  1428.0   \n",
       "day       45211.0    15.806419     8.322476     1.0    8.0   16.0    21.0   \n",
       "duration  45211.0   258.163080   257.527812     0.0  103.0  180.0   319.0   \n",
       "campaign  45211.0     2.763841     3.098021     1.0    1.0    2.0     3.0   \n",
       "pdays     45211.0    40.197828   100.128746    -1.0   -1.0   -1.0    -1.0   \n",
       "previous  45211.0     0.580323     2.303441     0.0    0.0    0.0     0.0   \n",
       "\n",
       "               max  \n",
       "age           95.0  \n",
       "balance   102127.0  \n",
       "day           31.0  \n",
       "duration    4918.0  \n",
       "campaign      63.0  \n",
       "pdays        871.0  \n",
       "previous     275.0  "
      ]
     },
     "execution_count": 21,
     "metadata": {},
     "output_type": "execute_result"
    }
   ],
   "source": [
    "data_df.describe().T\n"
   ]
  },
  {
   "cell_type": "code",
   "execution_count": 22,
   "id": "d93a3627",
   "metadata": {},
   "outputs": [
    {
     "data": {
      "image/png": "[encoded data removed]",
      "text/plain": [
       "<Figure size 1000x600 with 2 Axes>"
      ]
     },
     "metadata": {},
     "output_type": "display_data"
    }
   ],
   "source": [
    "plt.figure(figsize=(10, 6))\n",
    "corr = data_df.corr(numeric_only=True)\n",
    "\n",
    "ax = sns.heatmap(\n",
    "    corr,\n",
    "    annot=True,\n",
    "    fmt=\".2f\",              # format correlations\n",
    "    center=0,               # center at 0 for diverging colormap\n",
    "    linewidths=0.5,         # add grid lines\n",
    "    cbar_kws={\"shrink\": .8} # shrink colorbar for readability\n",
    ")\n",
    "\n",
    "ax.set_title(\"Correlation Heatmap\", fontsize=14, fontweight=\"bold\", pad=20)\n",
    "plt.xticks(rotation=45, ha=\"right\")   # rotate x labels\n",
    "plt.yticks(rotation=0)                # keep y labels horizontal\n",
    "plt.tight_layout()\n",
    "plt.show()"
   ]
  },
  {
   "cell_type": "markdown",
   "id": "a321a124",
   "metadata": {},
   "source": [
    "No strong correlations between anything, other than **pdays**(*number of days that passed by after the client was last contacted from a previous campaign*) and **previous**(*number of contacts performed before this campaign and for this client*) which shows medium correlationship"
   ]
  },
  {
   "cell_type": "markdown",
   "id": "d6f6c4cd",
   "metadata": {},
   "source": [
    "## 2.3 Categorical Columns"
   ]
  },
  {
   "cell_type": "code",
   "execution_count": 23,
   "id": "5a607019",
   "metadata": {},
   "outputs": [
    {
     "data": {
      "text/html": [
       "<div>\n",
       "<style scoped>\n",
       "    .dataframe tbody tr th:only-of-type {\n",
       "        vertical-align: middle;\n",
       "    }\n",
       "\n",
       "    .dataframe tbody tr th {\n",
       "        vertical-align: top;\n",
       "    }\n",
       "\n",
       "    .dataframe thead th {\n",
       "        text-align: right;\n",
       "    }\n",
       "</style>\n",
       "<table border=\"1\" class=\"dataframe\">\n",
       "  <thead>\n",
       "    <tr style=\"text-align: right;\">\n",
       "      <th></th>\n",
       "      <th>count</th>\n",
       "      <th>unique</th>\n",
       "      <th>top</th>\n",
       "      <th>freq</th>\n",
       "    </tr>\n",
       "  </thead>\n",
       "  <tbody>\n",
       "    <tr>\n",
       "      <th>job</th>\n",
       "      <td>45211</td>\n",
       "      <td>12</td>\n",
       "      <td>blue-collar</td>\n",
       "      <td>9732</td>\n",
       "    </tr>\n",
       "    <tr>\n",
       "      <th>marital</th>\n",
       "      <td>45211</td>\n",
       "      <td>3</td>\n",
       "      <td>married</td>\n",
       "      <td>27214</td>\n",
       "    </tr>\n",
       "    <tr>\n",
       "      <th>education</th>\n",
       "      <td>45211</td>\n",
       "      <td>4</td>\n",
       "      <td>secondary</td>\n",
       "      <td>23202</td>\n",
       "    </tr>\n",
       "    <tr>\n",
       "      <th>default</th>\n",
       "      <td>45211</td>\n",
       "      <td>2</td>\n",
       "      <td>no</td>\n",
       "      <td>44396</td>\n",
       "    </tr>\n",
       "    <tr>\n",
       "      <th>housing</th>\n",
       "      <td>45211</td>\n",
       "      <td>2</td>\n",
       "      <td>yes</td>\n",
       "      <td>25130</td>\n",
       "    </tr>\n",
       "    <tr>\n",
       "      <th>loan</th>\n",
       "      <td>45211</td>\n",
       "      <td>2</td>\n",
       "      <td>no</td>\n",
       "      <td>37967</td>\n",
       "    </tr>\n",
       "    <tr>\n",
       "      <th>contact</th>\n",
       "      <td>45211</td>\n",
       "      <td>3</td>\n",
       "      <td>cellular</td>\n",
       "      <td>29285</td>\n",
       "    </tr>\n",
       "    <tr>\n",
       "      <th>month</th>\n",
       "      <td>45211</td>\n",
       "      <td>12</td>\n",
       "      <td>may</td>\n",
       "      <td>13766</td>\n",
       "    </tr>\n",
       "    <tr>\n",
       "      <th>poutcome</th>\n",
       "      <td>45211</td>\n",
       "      <td>4</td>\n",
       "      <td>unknown</td>\n",
       "      <td>36959</td>\n",
       "    </tr>\n",
       "    <tr>\n",
       "      <th>y</th>\n",
       "      <td>45211</td>\n",
       "      <td>2</td>\n",
       "      <td>no</td>\n",
       "      <td>39922</td>\n",
       "    </tr>\n",
       "  </tbody>\n",
       "</table>\n",
       "</div>"
      ],
      "text/plain": [
       "           count unique          top   freq\n",
       "job        45211     12  blue-collar   9732\n",
       "marital    45211      3      married  27214\n",
       "education  45211      4    secondary  23202\n",
       "default    45211      2           no  44396\n",
       "housing    45211      2          yes  25130\n",
       "loan       45211      2           no  37967\n",
       "contact    45211      3     cellular  29285\n",
       "month      45211     12          may  13766\n",
       "poutcome   45211      4      unknown  36959\n",
       "y          45211      2           no  39922"
      ]
     },
     "execution_count": 23,
     "metadata": {},
     "output_type": "execute_result"
    }
   ],
   "source": [
    "data_df.describe(include=['O']).T"
   ]
  },
  {
   "cell_type": "code",
   "execution_count": 24,
   "id": "1ec4d995",
   "metadata": {},
   "outputs": [
    {
     "name": "stdout",
     "output_type": "stream",
     "text": [
      "job\n",
      "blue-collar      0.215257\n",
      "management       0.209197\n",
      "technician       0.168034\n",
      "admin.           0.114375\n",
      "services         0.091880\n",
      "retired          0.050076\n",
      "self-employed    0.034925\n",
      "entrepreneur     0.032890\n",
      "unemployed       0.028820\n",
      "housemaid        0.027427\n",
      "student          0.020747\n",
      "unknown          0.006370\n",
      "Name: proportion, dtype: float64\n",
      "****************************************************************************************************\n",
      "marital\n",
      "married     0.601933\n",
      "single      0.282896\n",
      "divorced    0.115171\n",
      "Name: proportion, dtype: float64\n",
      "****************************************************************************************************\n",
      "education\n",
      "secondary    0.513194\n",
      "tertiary     0.294198\n",
      "primary      0.151534\n",
      "unknown      0.041074\n",
      "Name: proportion, dtype: float64\n",
      "****************************************************************************************************\n",
      "default\n",
      "no     0.981973\n",
      "yes    0.018027\n",
      "Name: proportion, dtype: float64\n",
      "****************************************************************************************************\n",
      "housing\n",
      "yes    0.555838\n",
      "no     0.444162\n",
      "Name: proportion, dtype: float64\n",
      "****************************************************************************************************\n",
      "loan\n",
      "no     0.839774\n",
      "yes    0.160226\n",
      "Name: proportion, dtype: float64\n",
      "****************************************************************************************************\n",
      "contact\n",
      "cellular     0.647741\n",
      "unknown      0.287983\n",
      "telephone    0.064276\n",
      "Name: proportion, dtype: float64\n",
      "****************************************************************************************************\n",
      "month\n",
      "may    0.304483\n",
      "jul    0.152507\n",
      "aug    0.138174\n",
      "jun    0.118135\n",
      "nov    0.087810\n",
      "apr    0.064851\n",
      "feb    0.058592\n",
      "jan    0.031032\n",
      "oct    0.016323\n",
      "sep    0.012807\n",
      "mar    0.010551\n",
      "dec    0.004733\n",
      "Name: proportion, dtype: float64\n",
      "****************************************************************************************************\n",
      "poutcome\n",
      "unknown    0.817478\n",
      "failure    0.108403\n",
      "other      0.040698\n",
      "success    0.033421\n",
      "Name: proportion, dtype: float64\n",
      "****************************************************************************************************\n",
      "y\n",
      "no     0.883015\n",
      "yes    0.116985\n",
      "Name: proportion, dtype: float64\n",
      "****************************************************************************************************\n"
     ]
    }
   ],
   "source": [
    "for col in data_df.select_dtypes(include=\"object\"):\n",
    "    print( data_df[col].value_counts(normalize=True))\n",
    "    print(\"*\"*100)"
   ]
  },
  {
   "cell_type": "markdown",
   "id": "5473a780",
   "metadata": {},
   "source": [
    "* **Month** Can be converted to periodic for numeric calculations\n",
    "* *Binary Columns* can also be converted for easier calculations"
   ]
  },
  {
   "cell_type": "markdown",
   "id": "6c1ea5c2",
   "metadata": {},
   "source": [
    "# 3. Association Tests"
   ]
  },
  {
   "cell_type": "code",
   "execution_count": 25,
   "id": "df56a5b9",
   "metadata": {},
   "outputs": [
    {
     "name": "stdout",
     "output_type": "stream",
     "text": [
      "9\n"
     ]
    }
   ],
   "source": [
    "object_cols = data_df.select_dtypes(include=[\"object\"]).columns.tolist()\n",
    "object_cols = object_cols[:-1]\n",
    "print(len(object_cols))"
   ]
  },
  {
   "cell_type": "code",
   "execution_count": 26,
   "id": "ff5c112a",
   "metadata": {},
   "outputs": [
    {
     "name": "stdout",
     "output_type": "stream",
     "text": [
      "     Feature Target  Cramer's V  Chi2 Statistic  p-value Significance\n",
      "0        job      y       0.135         836.105      0.0  Significant\n",
      "1    marital      y       0.066         196.496      0.0  Significant\n",
      "2  education      y       0.072         238.924      0.0  Significant\n",
      "3    default      y       0.022          22.202      0.0  Significant\n",
      "4    housing      y       0.139         874.822      0.0  Significant\n",
      "5       loan      y       0.068         209.617      0.0  Significant\n",
      "6    contact      y       0.151        1035.714      0.0  Significant\n",
      "7      month      y       0.260        3061.839      0.0  Significant\n",
      "8   poutcome      y       0.312        4391.507      0.0  Significant\n"
     ]
    }
   ],
   "source": [
    "insight_table = association_with_target(data_df, object_cols, \"y\")\n",
    "print(insight_table)"
   ]
  },
  {
   "cell_type": "markdown",
   "id": "36b45336",
   "metadata": {},
   "source": [
    "# END"
   ]
  }
 ],
 "metadata": {
  "kernelspec": {
   "display_name": ".venv",
   "language": "python",
   "name": "python3"
  },
  "language_info": {
   "codemirror_mode": {
    "name": "ipython",
    "version": 3
   },
   "file_extension": ".py",
   "mimetype": "text/x-python",
   "name": "python",
   "nbconvert_exporter": "python",
   "pygments_lexer": "ipython3",
   "version": "3.13.3"
  }
 },
 "nbformat": 4,
 "nbformat_minor": 5
}

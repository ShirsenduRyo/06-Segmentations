{
 "cells": [
  {
   "cell_type": "markdown",
   "id": "aee88a33",
   "metadata": {},
   "source": [
    "# 0. Setting Up The Env"
   ]
  },
  {
   "cell_type": "markdown",
   "id": "acb0d3d9",
   "metadata": {},
   "source": [
    "## 0.1 Packages"
   ]
  },
  {
   "cell_type": "code",
   "execution_count": 1,
   "id": "2c845b81",
   "metadata": {},
   "outputs": [],
   "source": [
    "from pathlib import Path"
   ]
  },
  {
   "cell_type": "code",
   "execution_count": 6,
   "id": "84762ca8",
   "metadata": {},
   "outputs": [],
   "source": [
    "import numpy as np\n",
    "import pandas as pd\n",
    "\n",
    "import itertools\n"
   ]
  },
  {
   "cell_type": "code",
   "execution_count": 4,
   "id": "4548f8ab",
   "metadata": {},
   "outputs": [],
   "source": [
    "from sklearn.cluster import KMeans, AgglomerativeClustering, DBSCAN\n",
    "from sklearn.mixture import GaussianMixture\n",
    "from sklearn.metrics import (adjusted_rand_score, adjusted_mutual_info_score,\n",
    "                             homogeneity_score, completeness_score, v_measure_score,\n",
    "                             fowlkes_mallows_score)\n",
    "from sklearn.model_selection import cross_val_score, StratifiedKFold\n",
    "from sklearn.ensemble import RandomForestClassifier\n",
    "from sklearn.preprocessing import OneHotEncoder"
   ]
  },
  {
   "cell_type": "markdown",
   "id": "3e42b1d5",
   "metadata": {},
   "source": [
    "## 0.2 Utilities"
   ]
  },
  {
   "cell_type": "code",
   "execution_count": null,
   "id": "347a3d43",
   "metadata": {},
   "outputs": [],
   "source": [
    "import numpy as np\n",
    "import pandas as pd\n",
    "from sklearn.cluster import KMeans, AgglomerativeClustering, DBSCAN\n",
    "from sklearn.mixture import GaussianMixture\n",
    "from sklearn.metrics import (adjusted_rand_score, adjusted_mutual_info_score,\n",
    "                             homogeneity_score, completeness_score, v_measure_score,\n",
    "                             fowlkes_mallows_score)\n",
    "from sklearn.model_selection import cross_val_score, StratifiedKFold\n",
    "from sklearn.ensemble import RandomForestClassifier\n",
    "from sklearn.preprocessing import OneHotEncoder\n",
    "\n",
    "class ClusterEvaluator:\n",
    "    def __init__(self, X, y_true, random_state=42, repeats_stability=5):\n",
    "        self.X = np.asarray(X)\n",
    "        self.y_true = np.asarray(y_true)\n",
    "        self.random_state = random_state\n",
    "        self.repeats_stability = repeats_stability\n",
    "        self.results = []\n",
    "        self.profiles = {}\n",
    "\n",
    "    # -----------------------------\n",
    "    def _cluster(self, method, k=None, **kwargs):\n",
    "        \"\"\"Fit clustering model and return labels (and probs if GMM).\"\"\"\n",
    "        if method == 'kmeans':\n",
    "            model = KMeans(n_clusters=k, init='k-means++', n_init=50,\n",
    "                           random_state=self.random_state, **kwargs)\n",
    "            labels = model.fit_predict(self.X)\n",
    "            return labels, model\n",
    "\n",
    "        elif method == 'gmm':\n",
    "            model = GaussianMixture(n_components=k, covariance_type='full',\n",
    "                                    n_init=5, random_state=self.random_state, **kwargs)\n",
    "            labels = model.fit_predict(self.X)\n",
    "            return labels, model\n",
    "\n",
    "        elif method == 'dbscan':\n",
    "            model = DBSCAN(**kwargs)\n",
    "            labels = model.fit_predict(self.X)\n",
    "            return labels, model\n",
    "\n",
    "        elif method == 'agglo':\n",
    "            model = AgglomerativeClustering(n_clusters=k, **kwargs)\n",
    "            labels = model.fit_predict(self.X)\n",
    "            return labels, model\n",
    "\n",
    "        else:\n",
    "            raise ValueError(f\"Unknown method: {method}\")\n",
    "\n",
    "    # -----------------------------\n",
    "    def _evaluate(self, labels, method, k=None):\n",
    "        \"\"\"Compute external metrics, downstream test, stability, profiles.\"\"\"\n",
    "        y_true = self.y_true\n",
    "        ari = adjusted_rand_score(y_true, labels)\n",
    "        ami = adjusted_mutual_info_score(y_true, labels)\n",
    "        hom = homogeneity_score(y_true, labels)\n",
    "        comp = completeness_score(y_true, labels)\n",
    "        vmeas = v_measure_score(y_true, labels)\n",
    "        fmi = fowlkes_mallows_score(y_true, labels)\n",
    "\n",
    "        # Profile: cluster sizes & positive rates\n",
    "        dfc = pd.DataFrame({'cluster': labels, 'y': y_true})\n",
    "        grp = dfc.groupby('cluster').agg(n=('y','size'), positives=('y','sum'))\n",
    "        grp['pos_rate'] = grp['positives'] / grp['n']\n",
    "        global_pos_rate = np.mean(y_true)\n",
    "        grp['lift'] = grp['pos_rate'] / (global_pos_rate + 1e-12)\n",
    "        grp = grp.sort_values('pos_rate', ascending=False)\n",
    "        self.profiles[(method, k)] = grp\n",
    "\n",
    "        # Downstream check (cluster label one-hot → predict y)\n",
    "        enc = OneHotEncoder(sparse=False, handle_unknown='ignore')\n",
    "        Z = enc.fit_transform(labels.reshape(-1,1))\n",
    "        clf = RandomForestClassifier(n_estimators=200, random_state=0, n_jobs=-1)\n",
    "        cv = StratifiedKFold(n_splits=5, shuffle=True, random_state=0)\n",
    "        downstream_score = cross_val_score(clf, Z, y_true, cv=cv,\n",
    "                                           scoring='roc_auc', n_jobs=-1).mean()\n",
    "\n",
    "        # Stability (skip for DBSCAN because labels depend heavily on eps/min_samples)\n",
    "        stability_mean, stability_std = np.nan, np.nan\n",
    "        if method in ['kmeans','gmm','agglo']:\n",
    "            labels_list = []\n",
    "            for i in range(self.repeats_stability):\n",
    "                lab, _ = self._cluster(method, k, random_state=self.random_state+i)\n",
    "                labels_list.append(lab)\n",
    "            pairs = list(itertools.combinations(range(len(labels_list)), 2))\n",
    "            aris = [adjusted_rand_score(labels_list[i], labels_list[j]) for i,j in pairs]\n",
    "            stability_mean, stability_std = float(np.mean(aris)), float(np.std(aris))\n",
    "\n",
    "        return {\n",
    "            'method': method,\n",
    "            'k': k,\n",
    "            'ARI': ari,\n",
    "            'AMI': ami,\n",
    "            'homogeneity': hom,\n",
    "            'completeness': comp,\n",
    "            'v_measure': vmeas,\n",
    "            'fowlkes_mallows': fmi,\n",
    "            'downstream_auc': downstream_score,\n",
    "            'stability_mean_ari': stability_mean,\n",
    "            'stability_std_ari': stability_std,\n",
    "            'global_pos_rate': global_pos_rate,\n",
    "            'top_cluster_pos_rate': grp['pos_rate'].iloc[0],\n",
    "            'top_cluster_lift': grp['lift'].iloc[0]\n",
    "        }\n",
    "\n",
    "    # -----------------------------\n",
    "    def run_all(self, methods=['kmeans','gmm'], ks=range(2,9), **kwargs):\n",
    "        results = []\n",
    "        for method in methods:\n",
    "            if method in ['kmeans','gmm','agglo']:\n",
    "                for k in ks:\n",
    "                    labels, _ = self._cluster(method, k=k, **kwargs)\n",
    "                    res = self._evaluate(labels, method, k)\n",
    "                    results.append(res)\n",
    "            elif method == 'dbscan':\n",
    "                labels, _ = self._cluster(method, **kwargs)  # DBSCAN has no k\n",
    "                res = self._evaluate(labels, method, k=None)\n",
    "                results.append(res)\n",
    "        self.results = pd.DataFrame(results)\n",
    "        return self.results\n",
    "\n",
    "    def get_profiles(self, method, k=None):\n",
    "        return self.profiles.get((method, k))\n"
   ]
  },
  {
   "cell_type": "markdown",
   "id": "9e13ab50",
   "metadata": {},
   "source": [
    "## 0.3 Constants"
   ]
  },
  {
   "cell_type": "code",
   "execution_count": 2,
   "id": "57eec885",
   "metadata": {},
   "outputs": [
    {
     "data": {
      "text/plain": [
       "WindowsPath('d:/01 Work/06-Segmentations')"
      ]
     },
     "execution_count": 2,
     "metadata": {},
     "output_type": "execute_result"
    }
   ],
   "source": [
    "project_root = Path.cwd().parent\n",
    "project_root"
   ]
  },
  {
   "cell_type": "code",
   "execution_count": 3,
   "id": "47fec8ac",
   "metadata": {},
   "outputs": [
    {
     "data": {
      "text/plain": [
       "'d:\\\\01 Work\\\\06-Segmentations/data/processed/preprocessed_bank.csv'"
      ]
     },
     "execution_count": 3,
     "metadata": {},
     "output_type": "execute_result"
    }
   ],
   "source": [
    "processed_file_path = f\"{project_root}/data/processed/preprocessed_bank.csv\"\n",
    "processed_file_path"
   ]
  },
  {
   "cell_type": "markdown",
   "id": "fca1283a",
   "metadata": {},
   "source": [
    "# 1. The Data"
   ]
  },
  {
   "cell_type": "code",
   "execution_count": null,
   "id": "92d8cdc3",
   "metadata": {},
   "outputs": [],
   "source": []
  },
  {
   "cell_type": "markdown",
   "id": "19536dc7",
   "metadata": {},
   "source": [
    "# 2. Data Cleaning"
   ]
  },
  {
   "cell_type": "markdown",
   "id": "36b45336",
   "metadata": {},
   "source": [
    "# END"
   ]
  }
 ],
 "metadata": {
  "kernelspec": {
   "display_name": ".venv",
   "language": "python",
   "name": "python3"
  },
  "language_info": {
   "codemirror_mode": {
    "name": "ipython",
    "version": 3
   },
   "file_extension": ".py",
   "mimetype": "text/x-python",
   "name": "python",
   "nbconvert_exporter": "python",
   "pygments_lexer": "ipython3",
   "version": "3.13.3"
  }
 },
 "nbformat": 4,
 "nbformat_minor": 5
}

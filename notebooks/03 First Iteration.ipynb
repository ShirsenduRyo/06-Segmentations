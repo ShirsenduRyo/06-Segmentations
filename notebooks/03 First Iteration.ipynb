{
 "cells": [
  {
   "cell_type": "markdown",
   "id": "aee88a33",
   "metadata": {},
   "source": [
    "# 0. Setting Up The Env"
   ]
  },
  {
   "cell_type": "markdown",
   "id": "acb0d3d9",
   "metadata": {},
   "source": [
    "## 0.1 Packages"
   ]
  },
  {
   "cell_type": "code",
   "execution_count": 32,
   "id": "2c845b81",
   "metadata": {},
   "outputs": [],
   "source": [
    "from pathlib import Path"
   ]
  },
  {
   "cell_type": "code",
   "execution_count": 33,
   "id": "84762ca8",
   "metadata": {},
   "outputs": [],
   "source": [
    "import numpy as np\n",
    "import pandas as pd\n",
    "\n",
    "import itertools\n"
   ]
  },
  {
   "cell_type": "code",
   "execution_count": 34,
   "id": "c87a413e",
   "metadata": {},
   "outputs": [],
   "source": [
    "from sklearn.preprocessing import StandardScaler"
   ]
  },
  {
   "cell_type": "code",
   "execution_count": 35,
   "id": "4548f8ab",
   "metadata": {},
   "outputs": [],
   "source": [
    "from sklearn.cluster import KMeans, AgglomerativeClustering, DBSCAN\n",
    "from sklearn.mixture import GaussianMixture\n",
    "from sklearn.metrics import (adjusted_rand_score, adjusted_mutual_info_score,\n",
    "                             homogeneity_score, completeness_score, v_measure_score,\n",
    "                             fowlkes_mallows_score)\n",
    "from sklearn.model_selection import cross_val_score, StratifiedKFold\n",
    "from sklearn.ensemble import RandomForestClassifier\n",
    "from sklearn.preprocessing import OneHotEncoder\n",
    "from sklearn.metrics import silhouette_score, davies_bouldin_score, calinski_harabasz_score"
   ]
  },
  {
   "cell_type": "markdown",
   "id": "3e42b1d5",
   "metadata": {},
   "source": [
    "## 0.2 Utilities"
   ]
  },
  {
   "cell_type": "code",
   "execution_count": 36,
   "id": "347a3d43",
   "metadata": {},
   "outputs": [],
   "source": [
    "class ClusterEvaluator:\n",
    "    def __init__(self, X):\n",
    "        self.X = X\n",
    "        self.models = {\n",
    "            \"kmeans\": KMeans,\n",
    "            \"gmm\": GaussianMixture,\n",
    "            \"dbscan\": DBSCAN,\n",
    "            \"hierarchical\": AgglomerativeClustering\n",
    "        }\n",
    "    \n",
    "    def fit_and_evaluate(self, algo_name, **kwargs):\n",
    "        algo_name = algo_name.lower()\n",
    "        if algo_name not in self.models:\n",
    "            raise ValueError(f\"Unsupported algorithm: {algo_name}\")\n",
    "        \n",
    "        # Handle parameter filtering\n",
    "        if algo_name == \"kmeans\":\n",
    "            allowed = {\"n_clusters\", \"init\", \"max_iter\", \"random_state\"}\n",
    "        elif algo_name == \"gmm\":\n",
    "            allowed = {\"n_components\", \"covariance_type\", \"max_iter\", \"random_state\"}\n",
    "        elif algo_name == \"dbscan\":\n",
    "            allowed = {\"eps\", \"min_samples\", \"metric\"}\n",
    "        elif algo_name == \"hierarchical\":\n",
    "            allowed = {\"n_clusters\", \"linkage\", \"affinity\"}\n",
    "        else:\n",
    "            allowed = {}\n",
    "        \n",
    "        params = {k: v for k, v in kwargs.items() if k in allowed}\n",
    "        model = self.models[algo_name](**params)\n",
    "        \n",
    "        if algo_name == \"gmm\":\n",
    "            labels = model.fit_predict(self.X)\n",
    "        else:\n",
    "            labels = model.fit(self.X).labels_\n",
    "        \n",
    "        # Handle single-cluster/noise cases\n",
    "        if len(set(labels)) <= 1:\n",
    "            return {\"silhouette\": None, \"db\": None, \"ch\": None}\n",
    "        \n",
    "        results = {\n",
    "            \"silhouette\": silhouette_score(self.X, labels),\n",
    "            \"db\": davies_bouldin_score(self.X, labels),\n",
    "            \"ch\": calinski_harabasz_score(self.X, labels)\n",
    "        }\n",
    "        return results\n"
   ]
  },
  {
   "cell_type": "markdown",
   "id": "9e13ab50",
   "metadata": {},
   "source": [
    "## 0.3 Constants"
   ]
  },
  {
   "cell_type": "code",
   "execution_count": 37,
   "id": "57eec885",
   "metadata": {},
   "outputs": [
    {
     "data": {
      "text/plain": [
       "WindowsPath('d:/01 Work/06-Segmentations')"
      ]
     },
     "execution_count": 37,
     "metadata": {},
     "output_type": "execute_result"
    }
   ],
   "source": [
    "project_root = Path.cwd().parent\n",
    "project_root"
   ]
  },
  {
   "cell_type": "code",
   "execution_count": 38,
   "id": "47fec8ac",
   "metadata": {},
   "outputs": [
    {
     "data": {
      "text/plain": [
       "'d:\\\\01 Work\\\\06-Segmentations/data/processed/preprocessed_bank.csv'"
      ]
     },
     "execution_count": 38,
     "metadata": {},
     "output_type": "execute_result"
    }
   ],
   "source": [
    "processed_file_path = f\"{project_root}/data/processed/preprocessed_bank.csv\"\n",
    "processed_file_path"
   ]
  },
  {
   "cell_type": "markdown",
   "id": "fca1283a",
   "metadata": {},
   "source": [
    "# 1. The Data"
   ]
  },
  {
   "cell_type": "code",
   "execution_count": 39,
   "id": "92d8cdc3",
   "metadata": {},
   "outputs": [
    {
     "name": "stdout",
     "output_type": "stream",
     "text": [
      "The data has 4521 rows and 34 columns\n",
      "Data Preview:\n"
     ]
    },
    {
     "data": {
      "text/html": [
       "<div>\n",
       "<style scoped>\n",
       "    .dataframe tbody tr th:only-of-type {\n",
       "        vertical-align: middle;\n",
       "    }\n",
       "\n",
       "    .dataframe tbody tr th {\n",
       "        vertical-align: top;\n",
       "    }\n",
       "\n",
       "    .dataframe thead th {\n",
       "        text-align: right;\n",
       "    }\n",
       "</style>\n",
       "<table border=\"1\" class=\"dataframe\">\n",
       "  <thead>\n",
       "    <tr style=\"text-align: right;\">\n",
       "      <th></th>\n",
       "      <th>age</th>\n",
       "      <th>default</th>\n",
       "      <th>balance</th>\n",
       "      <th>housing</th>\n",
       "      <th>loan</th>\n",
       "      <th>day</th>\n",
       "      <th>duration</th>\n",
       "      <th>campaign</th>\n",
       "      <th>pdays</th>\n",
       "      <th>previous</th>\n",
       "      <th>...</th>\n",
       "      <th>marital_married</th>\n",
       "      <th>marital_single</th>\n",
       "      <th>education_primary</th>\n",
       "      <th>education_secondary</th>\n",
       "      <th>education_tertiary</th>\n",
       "      <th>contact_cellular</th>\n",
       "      <th>contact_unknown</th>\n",
       "      <th>poutcome_failure</th>\n",
       "      <th>poutcome_other</th>\n",
       "      <th>poutcome_unknown</th>\n",
       "    </tr>\n",
       "  </thead>\n",
       "  <tbody>\n",
       "    <tr>\n",
       "      <th>0</th>\n",
       "      <td>30</td>\n",
       "      <td>0</td>\n",
       "      <td>1787</td>\n",
       "      <td>0</td>\n",
       "      <td>0</td>\n",
       "      <td>19</td>\n",
       "      <td>79</td>\n",
       "      <td>1</td>\n",
       "      <td>-1</td>\n",
       "      <td>0</td>\n",
       "      <td>...</td>\n",
       "      <td>1</td>\n",
       "      <td>0</td>\n",
       "      <td>1</td>\n",
       "      <td>0</td>\n",
       "      <td>0</td>\n",
       "      <td>1</td>\n",
       "      <td>0</td>\n",
       "      <td>0</td>\n",
       "      <td>0</td>\n",
       "      <td>1</td>\n",
       "    </tr>\n",
       "    <tr>\n",
       "      <th>1</th>\n",
       "      <td>33</td>\n",
       "      <td>0</td>\n",
       "      <td>4789</td>\n",
       "      <td>1</td>\n",
       "      <td>1</td>\n",
       "      <td>11</td>\n",
       "      <td>220</td>\n",
       "      <td>1</td>\n",
       "      <td>339</td>\n",
       "      <td>4</td>\n",
       "      <td>...</td>\n",
       "      <td>1</td>\n",
       "      <td>0</td>\n",
       "      <td>0</td>\n",
       "      <td>1</td>\n",
       "      <td>0</td>\n",
       "      <td>1</td>\n",
       "      <td>0</td>\n",
       "      <td>1</td>\n",
       "      <td>0</td>\n",
       "      <td>0</td>\n",
       "    </tr>\n",
       "    <tr>\n",
       "      <th>2</th>\n",
       "      <td>35</td>\n",
       "      <td>0</td>\n",
       "      <td>1350</td>\n",
       "      <td>1</td>\n",
       "      <td>0</td>\n",
       "      <td>16</td>\n",
       "      <td>185</td>\n",
       "      <td>1</td>\n",
       "      <td>330</td>\n",
       "      <td>1</td>\n",
       "      <td>...</td>\n",
       "      <td>0</td>\n",
       "      <td>1</td>\n",
       "      <td>0</td>\n",
       "      <td>0</td>\n",
       "      <td>1</td>\n",
       "      <td>1</td>\n",
       "      <td>0</td>\n",
       "      <td>1</td>\n",
       "      <td>0</td>\n",
       "      <td>0</td>\n",
       "    </tr>\n",
       "    <tr>\n",
       "      <th>3</th>\n",
       "      <td>30</td>\n",
       "      <td>0</td>\n",
       "      <td>1476</td>\n",
       "      <td>1</td>\n",
       "      <td>1</td>\n",
       "      <td>3</td>\n",
       "      <td>199</td>\n",
       "      <td>4</td>\n",
       "      <td>-1</td>\n",
       "      <td>0</td>\n",
       "      <td>...</td>\n",
       "      <td>1</td>\n",
       "      <td>0</td>\n",
       "      <td>0</td>\n",
       "      <td>0</td>\n",
       "      <td>1</td>\n",
       "      <td>0</td>\n",
       "      <td>1</td>\n",
       "      <td>0</td>\n",
       "      <td>0</td>\n",
       "      <td>1</td>\n",
       "    </tr>\n",
       "    <tr>\n",
       "      <th>4</th>\n",
       "      <td>59</td>\n",
       "      <td>0</td>\n",
       "      <td>0</td>\n",
       "      <td>1</td>\n",
       "      <td>0</td>\n",
       "      <td>5</td>\n",
       "      <td>226</td>\n",
       "      <td>1</td>\n",
       "      <td>-1</td>\n",
       "      <td>0</td>\n",
       "      <td>...</td>\n",
       "      <td>1</td>\n",
       "      <td>0</td>\n",
       "      <td>0</td>\n",
       "      <td>1</td>\n",
       "      <td>0</td>\n",
       "      <td>0</td>\n",
       "      <td>1</td>\n",
       "      <td>0</td>\n",
       "      <td>0</td>\n",
       "      <td>1</td>\n",
       "    </tr>\n",
       "  </tbody>\n",
       "</table>\n",
       "<p>5 rows × 34 columns</p>\n",
       "</div>"
      ],
      "text/plain": [
       "   age  default  balance  housing  loan  day  duration  campaign  pdays  \\\n",
       "0   30        0     1787        0     0   19        79         1     -1   \n",
       "1   33        0     4789        1     1   11       220         1    339   \n",
       "2   35        0     1350        1     0   16       185         1    330   \n",
       "3   30        0     1476        1     1    3       199         4     -1   \n",
       "4   59        0        0        1     0    5       226         1     -1   \n",
       "\n",
       "   previous  ...  marital_married  marital_single  education_primary  \\\n",
       "0         0  ...                1               0                  1   \n",
       "1         4  ...                1               0                  0   \n",
       "2         1  ...                0               1                  0   \n",
       "3         0  ...                1               0                  0   \n",
       "4         0  ...                1               0                  0   \n",
       "\n",
       "   education_secondary  education_tertiary  contact_cellular  contact_unknown  \\\n",
       "0                    0                   0                 1                0   \n",
       "1                    1                   0                 1                0   \n",
       "2                    0                   1                 1                0   \n",
       "3                    0                   1                 0                1   \n",
       "4                    1                   0                 0                1   \n",
       "\n",
       "   poutcome_failure  poutcome_other  poutcome_unknown  \n",
       "0                 0               0                 1  \n",
       "1                 1               0                 0  \n",
       "2                 1               0                 0  \n",
       "3                 0               0                 1  \n",
       "4                 0               0                 1  \n",
       "\n",
       "[5 rows x 34 columns]"
      ]
     },
     "execution_count": 39,
     "metadata": {},
     "output_type": "execute_result"
    }
   ],
   "source": [
    "data_df  = pd.read_csv(processed_file_path)\n",
    "print(f\"The data has {data_df.shape[0]} rows and {data_df.shape[1]} columns\")\n",
    "print(\"Data Preview:\")\n",
    "data_df.head()"
   ]
  },
  {
   "cell_type": "code",
   "execution_count": 40,
   "id": "c0534cfa",
   "metadata": {},
   "outputs": [
    {
     "data": {
      "text/plain": [
       "Index(['age', 'default', 'balance', 'housing', 'loan', 'day', 'duration',\n",
       "       'campaign', 'pdays', 'previous', 'y', 'sin_month', 'cos_month',\n",
       "       'job_admin.', 'job_blue-collar', 'job_entrepreneur', 'job_housemaid',\n",
       "       'job_management', 'job_retired', 'job_self-employed', 'job_services',\n",
       "       'job_student', 'job_technician', 'job_unemployed', 'marital_married',\n",
       "       'marital_single', 'education_primary', 'education_secondary',\n",
       "       'education_tertiary', 'contact_cellular', 'contact_unknown',\n",
       "       'poutcome_failure', 'poutcome_other', 'poutcome_unknown'],\n",
       "      dtype='object')"
      ]
     },
     "execution_count": 40,
     "metadata": {},
     "output_type": "execute_result"
    }
   ],
   "source": [
    "data_df.columns"
   ]
  },
  {
   "cell_type": "markdown",
   "id": "19536dc7",
   "metadata": {},
   "source": [
    "# 2. Standard Scaling"
   ]
  },
  {
   "cell_type": "code",
   "execution_count": 41,
   "id": "b0684b72",
   "metadata": {},
   "outputs": [],
   "source": [
    "X = data_df.drop(\"y\", axis=1)\n",
    "y = data_df.loc[:,\"y\"]"
   ]
  },
  {
   "cell_type": "code",
   "execution_count": 42,
   "id": "ddd70dc5",
   "metadata": {},
   "outputs": [],
   "source": [
    "scaler = StandardScaler()\n",
    "scaled_array = scaler.fit_transform(X)"
   ]
  },
  {
   "cell_type": "code",
   "execution_count": 43,
   "id": "45fede53",
   "metadata": {},
   "outputs": [
    {
     "name": "stdout",
     "output_type": "stream",
     "text": [
      "{'silhouette': 0.744809185409758, 'db': 0.5220085682633675, 'ch': 7199.0098247403}\n",
      "{'silhouette': -0.1839429250684907, 'db': 7.721332670582633, 'ch': 25.53933611662522}\n",
      "{'silhouette': None, 'db': None, 'ch': None}\n",
      "{'silhouette': 0.6788621506388782, 'db': 0.6134003560345574, 'ch': 5408.867575425097}\n"
     ]
    }
   ],
   "source": [
    "evaluator = ClusterEvaluator(X)\n",
    "\n",
    "# KMeans\n",
    "print(evaluator.fit_and_evaluate(\"kmeans\", n_clusters=3, random_state=42))\n",
    "\n",
    "# GMM\n",
    "print(evaluator.fit_and_evaluate(\"gmm\", n_components=3, random_state=42))\n",
    "\n",
    "# DBSCAN\n",
    "print(evaluator.fit_and_evaluate(\"dbscan\", eps=0.5, min_samples=5))\n",
    "\n",
    "# Hierarchical\n",
    "print(evaluator.fit_and_evaluate(\"hierarchical\", n_clusters=3, linkage=\"ward\"))\n"
   ]
  },
  {
   "cell_type": "markdown",
   "id": "36b45336",
   "metadata": {},
   "source": [
    "# END"
   ]
  }
 ],
 "metadata": {
  "kernelspec": {
   "display_name": ".venv",
   "language": "python",
   "name": "python3"
  },
  "language_info": {
   "codemirror_mode": {
    "name": "ipython",
    "version": 3
   },
   "file_extension": ".py",
   "mimetype": "text/x-python",
   "name": "python",
   "nbconvert_exporter": "python",
   "pygments_lexer": "ipython3",
   "version": "3.13.3"
  }
 },
 "nbformat": 4,
 "nbformat_minor": 5
}

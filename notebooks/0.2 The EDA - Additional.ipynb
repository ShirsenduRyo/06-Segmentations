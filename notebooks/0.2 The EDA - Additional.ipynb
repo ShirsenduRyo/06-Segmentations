{
 "cells": [
  {
   "cell_type": "markdown",
   "id": "aee88a33",
   "metadata": {},
   "source": [
    "# 0. Setting Up The Env"
   ]
  },
  {
   "cell_type": "markdown",
   "id": "3c270a37",
   "metadata": {},
   "source": [
    "## 0.1 Packages"
   ]
  },
  {
   "cell_type": "code",
   "execution_count": 1,
   "id": "ba16c734",
   "metadata": {},
   "outputs": [],
   "source": [
    "from pathlib import Path"
   ]
  },
  {
   "cell_type": "code",
   "execution_count": 2,
   "id": "be5f62d8",
   "metadata": {},
   "outputs": [],
   "source": [
    "import pandas as pd \n",
    "import numpy as np"
   ]
  },
  {
   "cell_type": "code",
   "execution_count": 3,
   "id": "2d77d5bb",
   "metadata": {},
   "outputs": [],
   "source": [
    "import matplotlib.pyplot as plt\n",
    "import seaborn as sns\n",
    "sns.set_theme(style=\"darkgrid\")\n"
   ]
  },
  {
   "cell_type": "code",
   "execution_count": 4,
   "id": "e8506fdc",
   "metadata": {},
   "outputs": [],
   "source": [
    "from scipy.stats import chi2_contingency"
   ]
  },
  {
   "cell_type": "markdown",
   "id": "40e5513f",
   "metadata": {},
   "source": [
    "## 0.2 Utilities"
   ]
  },
  {
   "cell_type": "code",
   "execution_count": 5,
   "id": "fe947ad3",
   "metadata": {},
   "outputs": [],
   "source": [
    "def cramers_v(x, y):\n",
    "    \"\"\"\n",
    "    Calculate Cramér's V statistic \n",
    "    \"\"\"\n",
    "    confusion_matrix = pd.crosstab(x, y)\n",
    "    chi2, p, dof, exp = chi2_contingency(confusion_matrix)\n",
    "    n = confusion_matrix.sum().sum()\n",
    "    phi2 = chi2 / n\n",
    "    r, k = confusion_matrix.shape\n",
    "    phi2corr = max(0, phi2 - ((k-1)*(r-1))/(n-1))    \n",
    "    rcorr = r - ((r-1)**2)/(n-1)\n",
    "    kcorr = k - ((k-1)**2)/(n-1)\n",
    "    return np.sqrt(phi2corr / min((kcorr-1), (rcorr-1))), chi2, p\n",
    "\n",
    "def association_with_target(df, x_list, y):\n",
    "    \"\"\"\n",
    "    Test association between target categorical variable y and categorical features in x_list.\n",
    "    \"\"\"\n",
    "    results = []\n",
    "    for col in x_list:\n",
    "        v, chi2, p = cramers_v(df[col], df[y])\n",
    "        results.append({\n",
    "            \"Feature\": col,\n",
    "            \"Target\": y,\n",
    "            \"Cramer's V\": round(v, 3),\n",
    "            \"Chi2 Statistic\": round(chi2, 3),\n",
    "            \"p-value\": round(p, 5),\n",
    "            \"Significance\": \"Significant\" if p < 0.05 else \"Not Significant\"\n",
    "        })\n",
    "    return pd.DataFrame(results)"
   ]
  },
  {
   "cell_type": "markdown",
   "id": "b3158c91",
   "metadata": {},
   "source": [
    "## 0.3 Constants"
   ]
  },
  {
   "cell_type": "code",
   "execution_count": 6,
   "id": "bcccbda2",
   "metadata": {},
   "outputs": [
    {
     "data": {
      "text/plain": [
       "WindowsPath('d:/01 Work/06-Segmentations')"
      ]
     },
     "execution_count": 6,
     "metadata": {},
     "output_type": "execute_result"
    }
   ],
   "source": [
    "project_root = Path.cwd().parent\n",
    "project_root"
   ]
  },
  {
   "cell_type": "code",
   "execution_count": 7,
   "id": "fcbce3b3",
   "metadata": {},
   "outputs": [
    {
     "data": {
      "text/plain": [
       "'d:\\\\01 Work\\\\06-Segmentations/data/raw/bank-additional.csv'"
      ]
     },
     "execution_count": 7,
     "metadata": {},
     "output_type": "execute_result"
    }
   ],
   "source": [
    "raw_file_path = f\"{project_root}/data/raw/bank-additional.csv\"\n",
    "raw_file_path"
   ]
  },
  {
   "cell_type": "markdown",
   "id": "fca1283a",
   "metadata": {},
   "source": [
    "# 1. The Data"
   ]
  },
  {
   "cell_type": "code",
   "execution_count": 8,
   "id": "e720009d",
   "metadata": {},
   "outputs": [
    {
     "name": "stdout",
     "output_type": "stream",
     "text": [
      "The data has 4119 rows and 21 columns\n",
      "Data Preview:\n"
     ]
    },
    {
     "data": {
      "text/html": [
       "<div>\n",
       "<style scoped>\n",
       "    .dataframe tbody tr th:only-of-type {\n",
       "        vertical-align: middle;\n",
       "    }\n",
       "\n",
       "    .dataframe tbody tr th {\n",
       "        vertical-align: top;\n",
       "    }\n",
       "\n",
       "    .dataframe thead th {\n",
       "        text-align: right;\n",
       "    }\n",
       "</style>\n",
       "<table border=\"1\" class=\"dataframe\">\n",
       "  <thead>\n",
       "    <tr style=\"text-align: right;\">\n",
       "      <th></th>\n",
       "      <th>age</th>\n",
       "      <th>job</th>\n",
       "      <th>marital</th>\n",
       "      <th>education</th>\n",
       "      <th>default</th>\n",
       "      <th>housing</th>\n",
       "      <th>loan</th>\n",
       "      <th>contact</th>\n",
       "      <th>month</th>\n",
       "      <th>day_of_week</th>\n",
       "      <th>...</th>\n",
       "      <th>campaign</th>\n",
       "      <th>pdays</th>\n",
       "      <th>previous</th>\n",
       "      <th>poutcome</th>\n",
       "      <th>emp.var.rate</th>\n",
       "      <th>cons.price.idx</th>\n",
       "      <th>cons.conf.idx</th>\n",
       "      <th>euribor3m</th>\n",
       "      <th>nr.employed</th>\n",
       "      <th>y</th>\n",
       "    </tr>\n",
       "  </thead>\n",
       "  <tbody>\n",
       "    <tr>\n",
       "      <th>0</th>\n",
       "      <td>30</td>\n",
       "      <td>blue-collar</td>\n",
       "      <td>married</td>\n",
       "      <td>basic.9y</td>\n",
       "      <td>no</td>\n",
       "      <td>yes</td>\n",
       "      <td>no</td>\n",
       "      <td>cellular</td>\n",
       "      <td>may</td>\n",
       "      <td>fri</td>\n",
       "      <td>...</td>\n",
       "      <td>2</td>\n",
       "      <td>999</td>\n",
       "      <td>0</td>\n",
       "      <td>nonexistent</td>\n",
       "      <td>-1.8</td>\n",
       "      <td>92.893</td>\n",
       "      <td>-46.2</td>\n",
       "      <td>1.313</td>\n",
       "      <td>5099.1</td>\n",
       "      <td>no</td>\n",
       "    </tr>\n",
       "    <tr>\n",
       "      <th>1</th>\n",
       "      <td>39</td>\n",
       "      <td>services</td>\n",
       "      <td>single</td>\n",
       "      <td>high.school</td>\n",
       "      <td>no</td>\n",
       "      <td>no</td>\n",
       "      <td>no</td>\n",
       "      <td>telephone</td>\n",
       "      <td>may</td>\n",
       "      <td>fri</td>\n",
       "      <td>...</td>\n",
       "      <td>4</td>\n",
       "      <td>999</td>\n",
       "      <td>0</td>\n",
       "      <td>nonexistent</td>\n",
       "      <td>1.1</td>\n",
       "      <td>93.994</td>\n",
       "      <td>-36.4</td>\n",
       "      <td>4.855</td>\n",
       "      <td>5191.0</td>\n",
       "      <td>no</td>\n",
       "    </tr>\n",
       "    <tr>\n",
       "      <th>2</th>\n",
       "      <td>25</td>\n",
       "      <td>services</td>\n",
       "      <td>married</td>\n",
       "      <td>high.school</td>\n",
       "      <td>no</td>\n",
       "      <td>yes</td>\n",
       "      <td>no</td>\n",
       "      <td>telephone</td>\n",
       "      <td>jun</td>\n",
       "      <td>wed</td>\n",
       "      <td>...</td>\n",
       "      <td>1</td>\n",
       "      <td>999</td>\n",
       "      <td>0</td>\n",
       "      <td>nonexistent</td>\n",
       "      <td>1.4</td>\n",
       "      <td>94.465</td>\n",
       "      <td>-41.8</td>\n",
       "      <td>4.962</td>\n",
       "      <td>5228.1</td>\n",
       "      <td>no</td>\n",
       "    </tr>\n",
       "    <tr>\n",
       "      <th>3</th>\n",
       "      <td>38</td>\n",
       "      <td>services</td>\n",
       "      <td>married</td>\n",
       "      <td>basic.9y</td>\n",
       "      <td>no</td>\n",
       "      <td>unknown</td>\n",
       "      <td>unknown</td>\n",
       "      <td>telephone</td>\n",
       "      <td>jun</td>\n",
       "      <td>fri</td>\n",
       "      <td>...</td>\n",
       "      <td>3</td>\n",
       "      <td>999</td>\n",
       "      <td>0</td>\n",
       "      <td>nonexistent</td>\n",
       "      <td>1.4</td>\n",
       "      <td>94.465</td>\n",
       "      <td>-41.8</td>\n",
       "      <td>4.959</td>\n",
       "      <td>5228.1</td>\n",
       "      <td>no</td>\n",
       "    </tr>\n",
       "    <tr>\n",
       "      <th>4</th>\n",
       "      <td>47</td>\n",
       "      <td>admin.</td>\n",
       "      <td>married</td>\n",
       "      <td>university.degree</td>\n",
       "      <td>no</td>\n",
       "      <td>yes</td>\n",
       "      <td>no</td>\n",
       "      <td>cellular</td>\n",
       "      <td>nov</td>\n",
       "      <td>mon</td>\n",
       "      <td>...</td>\n",
       "      <td>1</td>\n",
       "      <td>999</td>\n",
       "      <td>0</td>\n",
       "      <td>nonexistent</td>\n",
       "      <td>-0.1</td>\n",
       "      <td>93.200</td>\n",
       "      <td>-42.0</td>\n",
       "      <td>4.191</td>\n",
       "      <td>5195.8</td>\n",
       "      <td>no</td>\n",
       "    </tr>\n",
       "  </tbody>\n",
       "</table>\n",
       "<p>5 rows × 21 columns</p>\n",
       "</div>"
      ],
      "text/plain": [
       "   age          job  marital          education default  housing     loan  \\\n",
       "0   30  blue-collar  married           basic.9y      no      yes       no   \n",
       "1   39     services   single        high.school      no       no       no   \n",
       "2   25     services  married        high.school      no      yes       no   \n",
       "3   38     services  married           basic.9y      no  unknown  unknown   \n",
       "4   47       admin.  married  university.degree      no      yes       no   \n",
       "\n",
       "     contact month day_of_week  ...  campaign  pdays  previous     poutcome  \\\n",
       "0   cellular   may         fri  ...         2    999         0  nonexistent   \n",
       "1  telephone   may         fri  ...         4    999         0  nonexistent   \n",
       "2  telephone   jun         wed  ...         1    999         0  nonexistent   \n",
       "3  telephone   jun         fri  ...         3    999         0  nonexistent   \n",
       "4   cellular   nov         mon  ...         1    999         0  nonexistent   \n",
       "\n",
       "  emp.var.rate  cons.price.idx  cons.conf.idx  euribor3m  nr.employed   y  \n",
       "0         -1.8          92.893          -46.2      1.313       5099.1  no  \n",
       "1          1.1          93.994          -36.4      4.855       5191.0  no  \n",
       "2          1.4          94.465          -41.8      4.962       5228.1  no  \n",
       "3          1.4          94.465          -41.8      4.959       5228.1  no  \n",
       "4         -0.1          93.200          -42.0      4.191       5195.8  no  \n",
       "\n",
       "[5 rows x 21 columns]"
      ]
     },
     "execution_count": 8,
     "metadata": {},
     "output_type": "execute_result"
    }
   ],
   "source": [
    "data_df  = pd.read_csv(raw_file_path, sep=\";\")\n",
    "print(f\"The data has {data_df.shape[0]} rows and {data_df.shape[1]} columns\")\n",
    "print(\"Data Preview:\")\n",
    "data_df.head()"
   ]
  },
  {
   "cell_type": "markdown",
   "id": "19536dc7",
   "metadata": {},
   "source": [
    "# 2. Data Check"
   ]
  },
  {
   "cell_type": "code",
   "execution_count": 9,
   "id": "86ef8312",
   "metadata": {},
   "outputs": [
    {
     "name": "stdout",
     "output_type": "stream",
     "text": [
      "age               0\n",
      "job               0\n",
      "marital           0\n",
      "education         0\n",
      "default           0\n",
      "housing           0\n",
      "loan              0\n",
      "contact           0\n",
      "month             0\n",
      "day_of_week       0\n",
      "duration          0\n",
      "campaign          0\n",
      "pdays             0\n",
      "previous          0\n",
      "poutcome          0\n",
      "emp.var.rate      0\n",
      "cons.price.idx    0\n",
      "cons.conf.idx     0\n",
      "euribor3m         0\n",
      "nr.employed       0\n",
      "y                 0\n",
      "dtype: int64\n"
     ]
    }
   ],
   "source": [
    "print(data_df.isnull().sum())\n",
    "\n",
    "\n"
   ]
  },
  {
   "cell_type": "code",
   "execution_count": 10,
   "id": "39e65758",
   "metadata": {},
   "outputs": [
    {
     "name": "stdout",
     "output_type": "stream",
     "text": [
      "<class 'pandas.core.frame.DataFrame'>\n",
      "RangeIndex: 4119 entries, 0 to 4118\n",
      "Data columns (total 21 columns):\n",
      " #   Column          Non-Null Count  Dtype  \n",
      "---  ------          --------------  -----  \n",
      " 0   age             4119 non-null   int64  \n",
      " 1   job             4119 non-null   object \n",
      " 2   marital         4119 non-null   object \n",
      " 3   education       4119 non-null   object \n",
      " 4   default         4119 non-null   object \n",
      " 5   housing         4119 non-null   object \n",
      " 6   loan            4119 non-null   object \n",
      " 7   contact         4119 non-null   object \n",
      " 8   month           4119 non-null   object \n",
      " 9   day_of_week     4119 non-null   object \n",
      " 10  duration        4119 non-null   int64  \n",
      " 11  campaign        4119 non-null   int64  \n",
      " 12  pdays           4119 non-null   int64  \n",
      " 13  previous        4119 non-null   int64  \n",
      " 14  poutcome        4119 non-null   object \n",
      " 15  emp.var.rate    4119 non-null   float64\n",
      " 16  cons.price.idx  4119 non-null   float64\n",
      " 17  cons.conf.idx   4119 non-null   float64\n",
      " 18  euribor3m       4119 non-null   float64\n",
      " 19  nr.employed     4119 non-null   float64\n",
      " 20  y               4119 non-null   object \n",
      "dtypes: float64(5), int64(5), object(11)\n",
      "memory usage: 675.9+ KB\n"
     ]
    }
   ],
   "source": [
    "data_df.info()"
   ]
  },
  {
   "cell_type": "markdown",
   "id": "059c5e08",
   "metadata": {},
   "source": [
    "## 2.1 Target Var"
   ]
  },
  {
   "cell_type": "code",
   "execution_count": 11,
   "id": "3721fdd5",
   "metadata": {},
   "outputs": [
    {
     "data": {
      "image/png": "[encoded data removed]",
      "text/plain": [
       "<Figure size 640x480 with 1 Axes>"
      ]
     },
     "metadata": {},
     "output_type": "display_data"
    }
   ],
   "source": [
    "ax = sns.barplot(\n",
    "    x=data_df['y'].value_counts(normalize=True).index,\n",
    "    y=data_df['y'].value_counts(normalize=True).values,\n",
    ")\n",
    "\n",
    "# Add percentage labels\n",
    "for i, v in enumerate(data_df['y'].value_counts(normalize=True).values):\n",
    "    ax.text(i, v + 0.01, f\"{v:.2%}\", ha=\"center\", fontweight=\"bold\")\n",
    "\n",
    "ax.set_title(\"Proportion of Target Variable (y)\")\n",
    "ax.set_xlabel(\"y\")\n",
    "ax.set_ylabel(\"Proportion\")\n",
    "plt.show()"
   ]
  },
  {
   "cell_type": "markdown",
   "id": "a8059dd8",
   "metadata": {},
   "source": [
    "## 2.2 Numeric Columns"
   ]
  },
  {
   "cell_type": "code",
   "execution_count": 12,
   "id": "0b82a42e",
   "metadata": {},
   "outputs": [
    {
     "data": {
      "text/html": [
       "<div>\n",
       "<style scoped>\n",
       "    .dataframe tbody tr th:only-of-type {\n",
       "        vertical-align: middle;\n",
       "    }\n",
       "\n",
       "    .dataframe tbody tr th {\n",
       "        vertical-align: top;\n",
       "    }\n",
       "\n",
       "    .dataframe thead th {\n",
       "        text-align: right;\n",
       "    }\n",
       "</style>\n",
       "<table border=\"1\" class=\"dataframe\">\n",
       "  <thead>\n",
       "    <tr style=\"text-align: right;\">\n",
       "      <th></th>\n",
       "      <th>count</th>\n",
       "      <th>mean</th>\n",
       "      <th>std</th>\n",
       "      <th>min</th>\n",
       "      <th>25%</th>\n",
       "      <th>50%</th>\n",
       "      <th>75%</th>\n",
       "      <th>max</th>\n",
       "    </tr>\n",
       "  </thead>\n",
       "  <tbody>\n",
       "    <tr>\n",
       "      <th>age</th>\n",
       "      <td>4119.0</td>\n",
       "      <td>40.113620</td>\n",
       "      <td>10.313362</td>\n",
       "      <td>18.000</td>\n",
       "      <td>32.000</td>\n",
       "      <td>38.000</td>\n",
       "      <td>47.000</td>\n",
       "      <td>88.000</td>\n",
       "    </tr>\n",
       "    <tr>\n",
       "      <th>duration</th>\n",
       "      <td>4119.0</td>\n",
       "      <td>256.788055</td>\n",
       "      <td>254.703736</td>\n",
       "      <td>0.000</td>\n",
       "      <td>103.000</td>\n",
       "      <td>181.000</td>\n",
       "      <td>317.000</td>\n",
       "      <td>3643.000</td>\n",
       "    </tr>\n",
       "    <tr>\n",
       "      <th>campaign</th>\n",
       "      <td>4119.0</td>\n",
       "      <td>2.537266</td>\n",
       "      <td>2.568159</td>\n",
       "      <td>1.000</td>\n",
       "      <td>1.000</td>\n",
       "      <td>2.000</td>\n",
       "      <td>3.000</td>\n",
       "      <td>35.000</td>\n",
       "    </tr>\n",
       "    <tr>\n",
       "      <th>pdays</th>\n",
       "      <td>4119.0</td>\n",
       "      <td>960.422190</td>\n",
       "      <td>191.922786</td>\n",
       "      <td>0.000</td>\n",
       "      <td>999.000</td>\n",
       "      <td>999.000</td>\n",
       "      <td>999.000</td>\n",
       "      <td>999.000</td>\n",
       "    </tr>\n",
       "    <tr>\n",
       "      <th>previous</th>\n",
       "      <td>4119.0</td>\n",
       "      <td>0.190337</td>\n",
       "      <td>0.541788</td>\n",
       "      <td>0.000</td>\n",
       "      <td>0.000</td>\n",
       "      <td>0.000</td>\n",
       "      <td>0.000</td>\n",
       "      <td>6.000</td>\n",
       "    </tr>\n",
       "    <tr>\n",
       "      <th>emp.var.rate</th>\n",
       "      <td>4119.0</td>\n",
       "      <td>0.084972</td>\n",
       "      <td>1.563114</td>\n",
       "      <td>-3.400</td>\n",
       "      <td>-1.800</td>\n",
       "      <td>1.100</td>\n",
       "      <td>1.400</td>\n",
       "      <td>1.400</td>\n",
       "    </tr>\n",
       "    <tr>\n",
       "      <th>cons.price.idx</th>\n",
       "      <td>4119.0</td>\n",
       "      <td>93.579704</td>\n",
       "      <td>0.579349</td>\n",
       "      <td>92.201</td>\n",
       "      <td>93.075</td>\n",
       "      <td>93.749</td>\n",
       "      <td>93.994</td>\n",
       "      <td>94.767</td>\n",
       "    </tr>\n",
       "    <tr>\n",
       "      <th>cons.conf.idx</th>\n",
       "      <td>4119.0</td>\n",
       "      <td>-40.499102</td>\n",
       "      <td>4.594578</td>\n",
       "      <td>-50.800</td>\n",
       "      <td>-42.700</td>\n",
       "      <td>-41.800</td>\n",
       "      <td>-36.400</td>\n",
       "      <td>-26.900</td>\n",
       "    </tr>\n",
       "    <tr>\n",
       "      <th>euribor3m</th>\n",
       "      <td>4119.0</td>\n",
       "      <td>3.621356</td>\n",
       "      <td>1.733591</td>\n",
       "      <td>0.635</td>\n",
       "      <td>1.334</td>\n",
       "      <td>4.857</td>\n",
       "      <td>4.961</td>\n",
       "      <td>5.045</td>\n",
       "    </tr>\n",
       "    <tr>\n",
       "      <th>nr.employed</th>\n",
       "      <td>4119.0</td>\n",
       "      <td>5166.481695</td>\n",
       "      <td>73.667904</td>\n",
       "      <td>4963.600</td>\n",
       "      <td>5099.100</td>\n",
       "      <td>5191.000</td>\n",
       "      <td>5228.100</td>\n",
       "      <td>5228.100</td>\n",
       "    </tr>\n",
       "  </tbody>\n",
       "</table>\n",
       "</div>"
      ],
      "text/plain": [
       "                 count         mean         std       min       25%       50%  \\\n",
       "age             4119.0    40.113620   10.313362    18.000    32.000    38.000   \n",
       "duration        4119.0   256.788055  254.703736     0.000   103.000   181.000   \n",
       "campaign        4119.0     2.537266    2.568159     1.000     1.000     2.000   \n",
       "pdays           4119.0   960.422190  191.922786     0.000   999.000   999.000   \n",
       "previous        4119.0     0.190337    0.541788     0.000     0.000     0.000   \n",
       "emp.var.rate    4119.0     0.084972    1.563114    -3.400    -1.800     1.100   \n",
       "cons.price.idx  4119.0    93.579704    0.579349    92.201    93.075    93.749   \n",
       "cons.conf.idx   4119.0   -40.499102    4.594578   -50.800   -42.700   -41.800   \n",
       "euribor3m       4119.0     3.621356    1.733591     0.635     1.334     4.857   \n",
       "nr.employed     4119.0  5166.481695   73.667904  4963.600  5099.100  5191.000   \n",
       "\n",
       "                     75%       max  \n",
       "age               47.000    88.000  \n",
       "duration         317.000  3643.000  \n",
       "campaign           3.000    35.000  \n",
       "pdays            999.000   999.000  \n",
       "previous           0.000     6.000  \n",
       "emp.var.rate       1.400     1.400  \n",
       "cons.price.idx    93.994    94.767  \n",
       "cons.conf.idx    -36.400   -26.900  \n",
       "euribor3m          4.961     5.045  \n",
       "nr.employed     5228.100  5228.100  "
      ]
     },
     "execution_count": 12,
     "metadata": {},
     "output_type": "execute_result"
    }
   ],
   "source": [
    "data_df.describe().T\n"
   ]
  },
  {
   "cell_type": "code",
   "execution_count": 13,
   "id": "d93a3627",
   "metadata": {},
   "outputs": [
    {
     "data": {
      "image/png": "[encoded data removed]",
      "text/plain": [
       "<Figure size 1000x600 with 2 Axes>"
      ]
     },
     "metadata": {},
     "output_type": "display_data"
    }
   ],
   "source": [
    "plt.figure(figsize=(10, 6))\n",
    "corr = data_df.corr(numeric_only=True)\n",
    "\n",
    "ax = sns.heatmap(\n",
    "    corr,\n",
    "    annot=True,\n",
    "    fmt=\".2f\",              # format correlations\n",
    "    center=0,               # center at 0 for diverging colormap\n",
    "    linewidths=0.5,         # add grid lines\n",
    "    cbar_kws={\"shrink\": .8} # shrink colorbar for readability\n",
    ")\n",
    "\n",
    "ax.set_title(\"Correlation Heatmap\", fontsize=14, fontweight=\"bold\", pad=20)\n",
    "plt.xticks(rotation=45, ha=\"right\")   # rotate x labels\n",
    "plt.yticks(rotation=0)                # keep y labels horizontal\n",
    "plt.tight_layout()\n",
    "plt.show()"
   ]
  },
  {
   "cell_type": "markdown",
   "id": "a321a124",
   "metadata": {},
   "source": [
    "* High Correlations :\n",
    "* Other than that, strong correlations between anything, other than **pdays**(*number of days that passed by after the client was last contacted from a previous campaign*) and **previous**(*number of contacts performed before this campaign and for this client*) which shows medium correlationship"
   ]
  },
  {
   "cell_type": "markdown",
   "id": "d6f6c4cd",
   "metadata": {},
   "source": [
    "## 2.3 Categorical Columns"
   ]
  },
  {
   "cell_type": "code",
   "execution_count": 14,
   "id": "5a607019",
   "metadata": {},
   "outputs": [
    {
     "data": {
      "text/html": [
       "<div>\n",
       "<style scoped>\n",
       "    .dataframe tbody tr th:only-of-type {\n",
       "        vertical-align: middle;\n",
       "    }\n",
       "\n",
       "    .dataframe tbody tr th {\n",
       "        vertical-align: top;\n",
       "    }\n",
       "\n",
       "    .dataframe thead th {\n",
       "        text-align: right;\n",
       "    }\n",
       "</style>\n",
       "<table border=\"1\" class=\"dataframe\">\n",
       "  <thead>\n",
       "    <tr style=\"text-align: right;\">\n",
       "      <th></th>\n",
       "      <th>count</th>\n",
       "      <th>unique</th>\n",
       "      <th>top</th>\n",
       "      <th>freq</th>\n",
       "    </tr>\n",
       "  </thead>\n",
       "  <tbody>\n",
       "    <tr>\n",
       "      <th>job</th>\n",
       "      <td>4119</td>\n",
       "      <td>12</td>\n",
       "      <td>admin.</td>\n",
       "      <td>1012</td>\n",
       "    </tr>\n",
       "    <tr>\n",
       "      <th>marital</th>\n",
       "      <td>4119</td>\n",
       "      <td>4</td>\n",
       "      <td>married</td>\n",
       "      <td>2509</td>\n",
       "    </tr>\n",
       "    <tr>\n",
       "      <th>education</th>\n",
       "      <td>4119</td>\n",
       "      <td>8</td>\n",
       "      <td>university.degree</td>\n",
       "      <td>1264</td>\n",
       "    </tr>\n",
       "    <tr>\n",
       "      <th>default</th>\n",
       "      <td>4119</td>\n",
       "      <td>3</td>\n",
       "      <td>no</td>\n",
       "      <td>3315</td>\n",
       "    </tr>\n",
       "    <tr>\n",
       "      <th>housing</th>\n",
       "      <td>4119</td>\n",
       "      <td>3</td>\n",
       "      <td>yes</td>\n",
       "      <td>2175</td>\n",
       "    </tr>\n",
       "    <tr>\n",
       "      <th>loan</th>\n",
       "      <td>4119</td>\n",
       "      <td>3</td>\n",
       "      <td>no</td>\n",
       "      <td>3349</td>\n",
       "    </tr>\n",
       "    <tr>\n",
       "      <th>contact</th>\n",
       "      <td>4119</td>\n",
       "      <td>2</td>\n",
       "      <td>cellular</td>\n",
       "      <td>2652</td>\n",
       "    </tr>\n",
       "    <tr>\n",
       "      <th>month</th>\n",
       "      <td>4119</td>\n",
       "      <td>10</td>\n",
       "      <td>may</td>\n",
       "      <td>1378</td>\n",
       "    </tr>\n",
       "    <tr>\n",
       "      <th>day_of_week</th>\n",
       "      <td>4119</td>\n",
       "      <td>5</td>\n",
       "      <td>thu</td>\n",
       "      <td>860</td>\n",
       "    </tr>\n",
       "    <tr>\n",
       "      <th>poutcome</th>\n",
       "      <td>4119</td>\n",
       "      <td>3</td>\n",
       "      <td>nonexistent</td>\n",
       "      <td>3523</td>\n",
       "    </tr>\n",
       "    <tr>\n",
       "      <th>y</th>\n",
       "      <td>4119</td>\n",
       "      <td>2</td>\n",
       "      <td>no</td>\n",
       "      <td>3668</td>\n",
       "    </tr>\n",
       "  </tbody>\n",
       "</table>\n",
       "</div>"
      ],
      "text/plain": [
       "            count unique                top  freq\n",
       "job          4119     12             admin.  1012\n",
       "marital      4119      4            married  2509\n",
       "education    4119      8  university.degree  1264\n",
       "default      4119      3                 no  3315\n",
       "housing      4119      3                yes  2175\n",
       "loan         4119      3                 no  3349\n",
       "contact      4119      2           cellular  2652\n",
       "month        4119     10                may  1378\n",
       "day_of_week  4119      5                thu   860\n",
       "poutcome     4119      3        nonexistent  3523\n",
       "y            4119      2                 no  3668"
      ]
     },
     "execution_count": 14,
     "metadata": {},
     "output_type": "execute_result"
    }
   ],
   "source": [
    "data_df.describe(include=['O']).T"
   ]
  },
  {
   "cell_type": "code",
   "execution_count": 15,
   "id": "1ec4d995",
   "metadata": {},
   "outputs": [
    {
     "name": "stdout",
     "output_type": "stream",
     "text": [
      "job\n",
      "admin.           0.245691\n",
      "blue-collar      0.214615\n",
      "technician       0.167759\n",
      "services         0.095412\n",
      "management       0.078660\n",
      "retired          0.040301\n",
      "self-employed    0.038602\n",
      "entrepreneur     0.035931\n",
      "unemployed       0.026948\n",
      "housemaid        0.026706\n",
      "student          0.019908\n",
      "unknown          0.009468\n",
      "Name: proportion, dtype: float64\n",
      "****************************************************************************************************\n",
      "marital\n",
      "married     0.609128\n",
      "single      0.279922\n",
      "divorced    0.108279\n",
      "unknown     0.002671\n",
      "Name: proportion, dtype: float64\n",
      "****************************************************************************************************\n",
      "education\n",
      "university.degree      0.306871\n",
      "high.school            0.223598\n",
      "basic.9y               0.139354\n",
      "professional.course    0.129886\n",
      "basic.4y               0.104151\n",
      "basic.6y               0.055353\n",
      "unknown                0.040544\n",
      "illiterate             0.000243\n",
      "Name: proportion, dtype: float64\n",
      "****************************************************************************************************\n",
      "default\n",
      "no         0.804807\n",
      "unknown    0.194950\n",
      "yes        0.000243\n",
      "Name: proportion, dtype: float64\n",
      "****************************************************************************************************\n",
      "housing\n",
      "yes        0.528041\n",
      "no         0.446468\n",
      "unknown    0.025492\n",
      "Name: proportion, dtype: float64\n",
      "****************************************************************************************************\n",
      "loan\n",
      "no         0.813061\n",
      "yes        0.161447\n",
      "unknown    0.025492\n",
      "Name: proportion, dtype: float64\n",
      "****************************************************************************************************\n",
      "contact\n",
      "cellular     0.643846\n",
      "telephone    0.356154\n",
      "Name: proportion, dtype: float64\n",
      "****************************************************************************************************\n",
      "month\n",
      "may    0.334547\n",
      "jul    0.172615\n",
      "aug    0.154406\n",
      "jun    0.128672\n",
      "nov    0.108279\n",
      "apr    0.052197\n",
      "oct    0.016752\n",
      "sep    0.015538\n",
      "mar    0.011653\n",
      "dec    0.005341\n",
      "Name: proportion, dtype: float64\n",
      "****************************************************************************************************\n",
      "day_of_week\n",
      "thu    0.208789\n",
      "mon    0.207575\n",
      "tue    0.204176\n",
      "wed    0.193008\n",
      "fri    0.186453\n",
      "Name: proportion, dtype: float64\n",
      "****************************************************************************************************\n",
      "poutcome\n",
      "nonexistent    0.855305\n",
      "failure        0.110221\n",
      "success        0.034474\n",
      "Name: proportion, dtype: float64\n",
      "****************************************************************************************************\n",
      "y\n",
      "no     0.890507\n",
      "yes    0.109493\n",
      "Name: proportion, dtype: float64\n",
      "****************************************************************************************************\n"
     ]
    }
   ],
   "source": [
    "for col in data_df.select_dtypes(include=\"object\"):\n",
    "    print( data_df[col].value_counts(normalize=True))\n",
    "    print(\"*\"*100)"
   ]
  },
  {
   "cell_type": "markdown",
   "id": "5473a780",
   "metadata": {},
   "source": [
    "* **Month** Can be converted to periodic for numeric calculations\n",
    "* *Binary Columns* can also be converted for easier calculations"
   ]
  },
  {
   "cell_type": "markdown",
   "id": "6c1ea5c2",
   "metadata": {},
   "source": [
    "# 3. Association Tests"
   ]
  },
  {
   "cell_type": "code",
   "execution_count": 16,
   "id": "df56a5b9",
   "metadata": {},
   "outputs": [
    {
     "name": "stdout",
     "output_type": "stream",
     "text": [
      "10\n"
     ]
    }
   ],
   "source": [
    "object_cols = data_df.select_dtypes(include=[\"object\"]).columns.tolist()\n",
    "object_cols = object_cols[:-1]\n",
    "print(len(object_cols))"
   ]
  },
  {
   "cell_type": "code",
   "execution_count": 17,
   "id": "ff5c112a",
   "metadata": {},
   "outputs": [
    {
     "name": "stdout",
     "output_type": "stream",
     "text": [
      "       Feature Target  Cramer's V  Chi2 Statistic  p-value     Significance\n",
      "0          job      y       0.120          69.979  0.00000      Significant\n",
      "1      marital      y       0.042          10.286  0.01629      Significant\n",
      "2    education      y       0.061          22.292  0.00226      Significant\n",
      "3      default      y       0.073          24.186  0.00001      Significant\n",
      "4      housing      y       0.000           0.627  0.73074  Not Significant\n",
      "5         loan      y       0.000           1.130  0.56845  Not Significant\n",
      "6      contact      y       0.136          76.846  0.00000      Significant\n",
      "7        month      y       0.266         299.788  0.00000      Significant\n",
      "8  day_of_week      y       0.000           0.512  0.97230  Not Significant\n",
      "9     poutcome      y       0.331         454.487  0.00000      Significant\n"
     ]
    }
   ],
   "source": [
    "insight_table = association_with_target(data_df, object_cols, \"y\")\n",
    "print(insight_table)"
   ]
  },
  {
   "cell_type": "markdown",
   "id": "36b45336",
   "metadata": {},
   "source": [
    "# END"
   ]
  }
 ],
 "metadata": {
  "kernelspec": {
   "display_name": ".venv",
   "language": "python",
   "name": "python3"
  },
  "language_info": {
   "codemirror_mode": {
    "name": "ipython",
    "version": 3
   },
   "file_extension": ".py",
   "mimetype": "text/x-python",
   "name": "python",
   "nbconvert_exporter": "python",
   "pygments_lexer": "ipython3",
   "version": "3.13.3"
  }
 },
 "nbformat": 4,
 "nbformat_minor": 5
}
